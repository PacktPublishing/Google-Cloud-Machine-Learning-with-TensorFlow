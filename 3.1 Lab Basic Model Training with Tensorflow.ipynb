{
 "cells": [
  {
   "cell_type": "markdown",
   "metadata": {},
   "source": [
    "# Basic Model Training with TensorFlow 2.0"
   ]
  },
  {
   "cell_type": "markdown",
   "metadata": {},
   "source": [
    "## Project Setup"
   ]
  },
  {
   "cell_type": "code",
   "execution_count": 1,
   "metadata": {},
   "outputs": [
    {
     "data": {
      "text/plain": [
       "'2.0.0-beta1'"
      ]
     },
     "execution_count": 1,
     "metadata": {},
     "output_type": "execute_result"
    }
   ],
   "source": [
    "import numpy as np\n",
    "import pandas as pd\n",
    "import tensorflow as tf\n",
    "import matplotlib.pyplot as plt\n",
    "\n",
    "tf.__version__"
   ]
  },
  {
   "cell_type": "markdown",
   "metadata": {},
   "source": [
    "## Staging Data"
   ]
  },
  {
   "cell_type": "markdown",
   "metadata": {},
   "source": [
    "![](cloud_storage.png)"
   ]
  },
  {
   "cell_type": "markdown",
   "metadata": {},
   "source": [
    "**Pros and Cons of Preprocessing Data in Bigquery**\n",
    "\n",
    "- (+) Efficient transformations\n",
    "- (+) Easy to apply to new data within schema\n",
    "- (+) Scalability\n",
    "- (-) Limited Features\n",
    "- (-) Transfer over Network "
   ]
  },
  {
   "cell_type": "code",
   "execution_count": 2,
   "metadata": {},
   "outputs": [
    {
     "name": "stdout",
     "output_type": "stream",
     "text": [
      "Executing query with job ID: f19fb66d-d6ed-4a1f-9b8c-e3165a0b750a\n",
      "Query executing: 8.99s\n",
      "Query complete after 11.96s\n"
     ]
    }
   ],
   "source": [
    "%%bigquery flights_df --verbose\n",
    "\n",
    "SELECT \n",
    "\n",
    "  -- We are binning the departure_delay to capture the data better 0, 2, 3, 6, 9, 13, 19, 28, 44, 76, 120\n",
    "  CASE WHEN (departure_delay < 2) THEN 1 ELSE 0 END AS departure_delay_bin_0,\n",
    "  CASE WHEN (2 <= departure_delay AND departure_delay < 3) THEN 1 ELSE 0 END AS departure_delay_bin_1,\n",
    "  CASE WHEN (3 <= departure_delay AND departure_delay < 6) THEN 1 ELSE 0 END AS departure_delay_bin_2,\n",
    "  CASE WHEN (6 <= departure_delay AND departure_delay < 9) THEN 1 ELSE 0 END AS departure_delay_bin_3,\n",
    "  CASE WHEN (9 <= departure_delay AND departure_delay < 13) THEN 1 ELSE 0 END AS departure_delay_bin_4,\n",
    "  CASE WHEN (13 <= departure_delay AND departure_delay < 19) THEN 1 ELSE 0 END AS departure_delay_bin_5,\n",
    "  CASE WHEN (19 <= departure_delay AND departure_delay < 28) THEN 1 ELSE 0 END AS departure_delay_bin_6,\n",
    "  CASE WHEN (28 <= departure_delay AND departure_delay < 44) THEN 1 ELSE 0 END AS departure_delay_bin_7,\n",
    "  CASE WHEN (44 <= departure_delay AND departure_delay < 76) THEN 1 ELSE 0 END AS departure_delay_bin_8,\n",
    "  CASE WHEN (76 <= departure_delay) THEN 1 ELSE 0 END AS departure_delay_bin_9,\n",
    "  \n",
    "  departure_delay, -- just for demo purposes\n",
    "  \n",
    "  -- We are binning the distance to capture the data better 600, 1200 km\n",
    "  CASE WHEN (distance < 600) THEN 1 ELSE 0 END AS distance_bin_0,\n",
    "  CASE WHEN (600 <= distance AND distance < 1200) THEN 1 ELSE 0 END AS distance_bin_1,\n",
    "  CASE WHEN (1200 <= distance) THEN 1 ELSE 0 END AS distance_bin_2,\n",
    "  \n",
    "  -- Target column\n",
    "  CASE WHEN (arrival_delay >= 15) THEN 1 ELSE 0 END as delayed\n",
    "  \n",
    "  FROM ( \n",
    "    \n",
    "    -- Inner Query\n",
    "    SELECT\n",
    "      ROUND(ST_DISTANCE(ST_GEOGPOINT(departure_lon, departure_lat), ST_GEOGPOINT(arrival_lon, arrival_lat))/1000) as distance,\n",
    "      departure_delay,\n",
    "      arrival_delay\n",
    "    FROM\n",
    "      `bigquery-samples.airline_ontime_data.flights`\n",
    "    WHERE date >= '2009-01-01' \n",
    "    AND date <= '2009-12-31'\n",
    "    AND departure_delay > 0          \n",
    "  )\n"
   ]
  },
  {
   "cell_type": "code",
   "execution_count": 3,
   "metadata": {},
   "outputs": [
    {
     "data": {
      "text/plain": [
       "(2302332, 15)"
      ]
     },
     "execution_count": 3,
     "metadata": {},
     "output_type": "execute_result"
    }
   ],
   "source": [
    "flights_df.shape"
   ]
  },
  {
   "cell_type": "code",
   "execution_count": 4,
   "metadata": {},
   "outputs": [
    {
     "data": {
      "text/html": [
       "<div>\n",
       "<style scoped>\n",
       "    .dataframe tbody tr th:only-of-type {\n",
       "        vertical-align: middle;\n",
       "    }\n",
       "\n",
       "    .dataframe tbody tr th {\n",
       "        vertical-align: top;\n",
       "    }\n",
       "\n",
       "    .dataframe thead th {\n",
       "        text-align: right;\n",
       "    }\n",
       "</style>\n",
       "<table border=\"1\" class=\"dataframe\">\n",
       "  <thead>\n",
       "    <tr style=\"text-align: right;\">\n",
       "      <th></th>\n",
       "      <th>departure_delay_bin_0</th>\n",
       "      <th>departure_delay_bin_1</th>\n",
       "      <th>departure_delay_bin_2</th>\n",
       "      <th>departure_delay_bin_3</th>\n",
       "      <th>departure_delay_bin_4</th>\n",
       "      <th>departure_delay_bin_5</th>\n",
       "      <th>departure_delay_bin_6</th>\n",
       "      <th>departure_delay_bin_7</th>\n",
       "      <th>departure_delay_bin_8</th>\n",
       "      <th>departure_delay_bin_9</th>\n",
       "      <th>departure_delay</th>\n",
       "      <th>distance_bin_0</th>\n",
       "      <th>distance_bin_1</th>\n",
       "      <th>distance_bin_2</th>\n",
       "      <th>delayed</th>\n",
       "    </tr>\n",
       "  </thead>\n",
       "  <tbody>\n",
       "    <tr>\n",
       "      <th>1018911</th>\n",
       "      <td>0</td>\n",
       "      <td>0</td>\n",
       "      <td>0</td>\n",
       "      <td>0</td>\n",
       "      <td>0</td>\n",
       "      <td>1</td>\n",
       "      <td>0</td>\n",
       "      <td>0</td>\n",
       "      <td>0</td>\n",
       "      <td>0</td>\n",
       "      <td>13.0</td>\n",
       "      <td>0</td>\n",
       "      <td>1</td>\n",
       "      <td>0</td>\n",
       "      <td>0</td>\n",
       "    </tr>\n",
       "    <tr>\n",
       "      <th>1322916</th>\n",
       "      <td>0</td>\n",
       "      <td>0</td>\n",
       "      <td>0</td>\n",
       "      <td>0</td>\n",
       "      <td>0</td>\n",
       "      <td>0</td>\n",
       "      <td>1</td>\n",
       "      <td>0</td>\n",
       "      <td>0</td>\n",
       "      <td>0</td>\n",
       "      <td>21.0</td>\n",
       "      <td>1</td>\n",
       "      <td>0</td>\n",
       "      <td>0</td>\n",
       "      <td>1</td>\n",
       "    </tr>\n",
       "    <tr>\n",
       "      <th>168934</th>\n",
       "      <td>0</td>\n",
       "      <td>0</td>\n",
       "      <td>1</td>\n",
       "      <td>0</td>\n",
       "      <td>0</td>\n",
       "      <td>0</td>\n",
       "      <td>0</td>\n",
       "      <td>0</td>\n",
       "      <td>0</td>\n",
       "      <td>0</td>\n",
       "      <td>4.0</td>\n",
       "      <td>1</td>\n",
       "      <td>0</td>\n",
       "      <td>0</td>\n",
       "      <td>0</td>\n",
       "    </tr>\n",
       "    <tr>\n",
       "      <th>1969899</th>\n",
       "      <td>0</td>\n",
       "      <td>0</td>\n",
       "      <td>0</td>\n",
       "      <td>1</td>\n",
       "      <td>0</td>\n",
       "      <td>0</td>\n",
       "      <td>0</td>\n",
       "      <td>0</td>\n",
       "      <td>0</td>\n",
       "      <td>0</td>\n",
       "      <td>7.0</td>\n",
       "      <td>0</td>\n",
       "      <td>0</td>\n",
       "      <td>1</td>\n",
       "      <td>0</td>\n",
       "    </tr>\n",
       "    <tr>\n",
       "      <th>590672</th>\n",
       "      <td>0</td>\n",
       "      <td>0</td>\n",
       "      <td>0</td>\n",
       "      <td>0</td>\n",
       "      <td>0</td>\n",
       "      <td>0</td>\n",
       "      <td>0</td>\n",
       "      <td>1</td>\n",
       "      <td>0</td>\n",
       "      <td>0</td>\n",
       "      <td>33.0</td>\n",
       "      <td>1</td>\n",
       "      <td>0</td>\n",
       "      <td>0</td>\n",
       "      <td>1</td>\n",
       "    </tr>\n",
       "  </tbody>\n",
       "</table>\n",
       "</div>"
      ],
      "text/plain": [
       "         departure_delay_bin_0  departure_delay_bin_1  departure_delay_bin_2  \\\n",
       "1018911                      0                      0                      0   \n",
       "1322916                      0                      0                      0   \n",
       "168934                       0                      0                      1   \n",
       "1969899                      0                      0                      0   \n",
       "590672                       0                      0                      0   \n",
       "\n",
       "         departure_delay_bin_3  departure_delay_bin_4  departure_delay_bin_5  \\\n",
       "1018911                      0                      0                      1   \n",
       "1322916                      0                      0                      0   \n",
       "168934                       0                      0                      0   \n",
       "1969899                      1                      0                      0   \n",
       "590672                       0                      0                      0   \n",
       "\n",
       "         departure_delay_bin_6  departure_delay_bin_7  departure_delay_bin_8  \\\n",
       "1018911                      0                      0                      0   \n",
       "1322916                      1                      0                      0   \n",
       "168934                       0                      0                      0   \n",
       "1969899                      0                      0                      0   \n",
       "590672                       0                      1                      0   \n",
       "\n",
       "         departure_delay_bin_9  departure_delay  distance_bin_0  \\\n",
       "1018911                      0             13.0               0   \n",
       "1322916                      0             21.0               1   \n",
       "168934                       0              4.0               1   \n",
       "1969899                      0              7.0               0   \n",
       "590672                       0             33.0               1   \n",
       "\n",
       "         distance_bin_1  distance_bin_2  delayed  \n",
       "1018911               1               0        0  \n",
       "1322916               0               0        1  \n",
       "168934                0               0        0  \n",
       "1969899               0               1        0  \n",
       "590672                0               0        1  "
      ]
     },
     "execution_count": 4,
     "metadata": {},
     "output_type": "execute_result"
    }
   ],
   "source": [
    "flights_df.sample(n = 5)"
   ]
  },
  {
   "cell_type": "markdown",
   "metadata": {},
   "source": [
    "## Data Preprocessing"
   ]
  },
  {
   "cell_type": "markdown",
   "metadata": {},
   "source": [
    "Why are we binning?"
   ]
  },
  {
   "cell_type": "code",
   "execution_count": 10,
   "metadata": {},
   "outputs": [
    {
     "data": {
      "text/plain": [
       "<matplotlib.axes._subplots.AxesSubplot at 0x7ffb4e434828>"
      ]
     },
     "execution_count": 10,
     "metadata": {},
     "output_type": "execute_result"
    },
    {
     "data": {
      "image/png": "[encoded data removed]",
      "text/plain": [
       "<Figure size 1152x360 with 1 Axes>"
      ]
     },
     "metadata": {
      "needs_background": "light"
     },
     "output_type": "display_data"
    }
   ],
   "source": [
    "flights_df['departure_delay_bin'] = pd.cut(flights_df['departure_delay'], [0, 2, 3, 6, 9, 13, 19, 28, 44, 76, 120])\n",
    "(flights_df\n",
    " .filter(['departure_delay_bin', 'delayed'])\n",
    " .groupby('departure_delay_bin')\n",
    " .agg('mean')\n",
    " .plot.bar(figsize = (16,5))\n",
    ")"
   ]
  },
  {
   "cell_type": "markdown",
   "metadata": {},
   "source": [
    "Let's drop the departure_delay numeric variable because we are not needing it."
   ]
  },
  {
   "cell_type": "code",
   "execution_count": 11,
   "metadata": {},
   "outputs": [],
   "source": [
    "flights_df = flights_df.drop(columns = [\"departure_delay_bin\", \"departure_delay\"])"
   ]
  },
  {
   "cell_type": "code",
   "execution_count": 12,
   "metadata": {},
   "outputs": [
    {
     "data": {
      "text/plain": [
       "departure_delay_bin_0    int64\n",
       "departure_delay_bin_1    int64\n",
       "departure_delay_bin_2    int64\n",
       "departure_delay_bin_3    int64\n",
       "departure_delay_bin_4    int64\n",
       "departure_delay_bin_5    int64\n",
       "departure_delay_bin_6    int64\n",
       "departure_delay_bin_7    int64\n",
       "departure_delay_bin_8    int64\n",
       "departure_delay_bin_9    int64\n",
       "distance_bin_0           int64\n",
       "distance_bin_1           int64\n",
       "distance_bin_2           int64\n",
       "delayed                  int64\n",
       "dtype: object"
      ]
     },
     "execution_count": 12,
     "metadata": {},
     "output_type": "execute_result"
    }
   ],
   "source": [
    "flights_df.dtypes"
   ]
  },
  {
   "cell_type": "markdown",
   "metadata": {},
   "source": [
    "## Model Training using Keras API"
   ]
  },
  {
   "cell_type": "markdown",
   "metadata": {},
   "source": [
    "### Training-Testing-Split"
   ]
  },
  {
   "cell_type": "code",
   "execution_count": 13,
   "metadata": {},
   "outputs": [
    {
     "name": "stdout",
     "output_type": "stream",
     "text": [
      "0.450877422480125\n",
      "0.45111625886781526\n"
     ]
    }
   ],
   "source": [
    "train_df = flights_df.sample(frac=0.85,random_state=123)\n",
    "test_df = flights_df.drop(train_df.index)\n",
    "print(train_df.delayed.mean())\n",
    "print(test_df.delayed.mean())\n",
    "\n",
    "train_labels = train_df.pop('delayed')\n",
    "test_labels = test_df.pop('delayed')"
   ]
  },
  {
   "cell_type": "code",
   "execution_count": 14,
   "metadata": {},
   "outputs": [],
   "source": [
    "# Initialize a Sequential model using TF.Keras API:\n",
    "tf.keras.backend.clear_session()\n",
    "\n",
    "model = tf.keras.models.Sequential([\n",
    "    \n",
    "    tf.keras.layers.Dense(1, activation='sigmoid', input_shape = [len(train_df.keys())])])\n",
    "\n",
    "model.compile(optimizer='adam',\n",
    "              loss='binary_crossentropy',\n",
    "              metrics=['accuracy'],\n",
    "             )"
   ]
  },
  {
   "cell_type": "code",
   "execution_count": 15,
   "metadata": {},
   "outputs": [
    {
     "name": "stdout",
     "output_type": "stream",
     "text": [
      "Model: \"sequential\"\n",
      "_________________________________________________________________\n",
      "Layer (type)                 Output Shape              Param #   \n",
      "=================================================================\n",
      "dense (Dense)                (None, 1)                 14        \n",
      "=================================================================\n",
      "Total params: 14\n",
      "Trainable params: 14\n",
      "Non-trainable params: 0\n",
      "_________________________________________________________________\n"
     ]
    }
   ],
   "source": [
    "model.summary()"
   ]
  },
  {
   "cell_type": "markdown",
   "metadata": {},
   "source": [
    "The model itself is still very simple (logistic regression). The complexity comes through feature engineering and dummy variables. For the regression though this isn't a a problem because many of the computations will be 0 because it is essentially a weighted sum."
   ]
  },
  {
   "cell_type": "code",
   "execution_count": 16,
   "metadata": {},
   "outputs": [
    {
     "name": "stderr",
     "output_type": "stream",
     "text": [
      "WARNING: Logging before flag parsing goes to stderr.\n",
      "W0903 20:10:07.095013 140719213967104 deprecation.py:323] From /usr/local/lib/python3.5/dist-packages/tensorflow/python/ops/math_grad.py:1250: add_dispatch_support.<locals>.wrapper (from tensorflow.python.ops.array_ops) is deprecated and will be removed in a future version.\n",
      "Instructions for updating:\n",
      "Use tf.where in 2.0, which has the same broadcast rule as np.where\n"
     ]
    },
    {
     "name": "stdout",
     "output_type": "stream",
     "text": [
      "Train on 1956982 samples\n",
      "Epoch 1/3\n",
      "1956982/1956982 [==============================] - 171s 87us/sample - loss: 0.3541 - accuracy: 0.8531\n",
      "Epoch 2/3\n",
      "1956982/1956982 [==============================] - 156s 80us/sample - loss: 0.3447 - accuracy: 0.8566\n",
      "Epoch 3/3\n",
      "1956982/1956982 [==============================] - 148s 76us/sample - loss: 0.3447 - accuracy: 0.8566\n"
     ]
    }
   ],
   "source": [
    "history = model.fit(train_df, train_labels, \n",
    "                    epochs = 3,\n",
    "                    callbacks = [tf.keras.callbacks.TensorBoard(\"logs/logistic-regression\")])"
   ]
  },
  {
   "cell_type": "markdown",
   "metadata": {},
   "source": [
    "## Testing Model Predictions"
   ]
  },
  {
   "cell_type": "markdown",
   "metadata": {},
   "source": [
    "### Performance evaluation of logistic regression on test data"
   ]
  },
  {
   "cell_type": "code",
   "execution_count": 17,
   "metadata": {},
   "outputs": [
    {
     "data": {
      "text/plain": [
       "array([0.88899755, 0.12889078, 0.3172538 , 0.3172538 , 0.05599916,\n",
       "       0.88899755, 0.9928516 , 0.08760107, 0.05599916, 0.9999999 ],\n",
       "      dtype=float32)"
      ]
     },
     "execution_count": 17,
     "metadata": {},
     "output_type": "execute_result"
    }
   ],
   "source": [
    "test_predictions = model.predict(test_df).flatten()\n",
    "\n",
    "test_predictions[:10]"
   ]
  },
  {
   "cell_type": "code",
   "execution_count": 18,
   "metadata": {},
   "outputs": [
    {
     "data": {
      "text/plain": [
       "array([1, 0, 0, 0, 0, 1, 1, 0, 0, 1])"
      ]
     },
     "execution_count": 18,
     "metadata": {},
     "output_type": "execute_result"
    }
   ],
   "source": [
    "predicted_labels = (test_predictions > 0.5).astype(int)\n",
    "\n",
    "predicted_labels[:10]"
   ]
  },
  {
   "cell_type": "code",
   "execution_count": 19,
   "metadata": {},
   "outputs": [
    {
     "data": {
      "text/html": [
       "<div>\n",
       "<style scoped>\n",
       "    .dataframe tbody tr th:only-of-type {\n",
       "        vertical-align: middle;\n",
       "    }\n",
       "\n",
       "    .dataframe tbody tr th {\n",
       "        vertical-align: top;\n",
       "    }\n",
       "\n",
       "    .dataframe thead th {\n",
       "        text-align: right;\n",
       "    }\n",
       "</style>\n",
       "<table border=\"1\" class=\"dataframe\">\n",
       "  <thead>\n",
       "    <tr style=\"text-align: right;\">\n",
       "      <th></th>\n",
       "      <th>Actual</th>\n",
       "      <th>Predicted</th>\n",
       "    </tr>\n",
       "  </thead>\n",
       "  <tbody>\n",
       "    <tr>\n",
       "      <th>2</th>\n",
       "      <td>1</td>\n",
       "      <td>1</td>\n",
       "    </tr>\n",
       "    <tr>\n",
       "      <th>4</th>\n",
       "      <td>0</td>\n",
       "      <td>0</td>\n",
       "    </tr>\n",
       "    <tr>\n",
       "      <th>8</th>\n",
       "      <td>0</td>\n",
       "      <td>0</td>\n",
       "    </tr>\n",
       "    <tr>\n",
       "      <th>16</th>\n",
       "      <td>0</td>\n",
       "      <td>0</td>\n",
       "    </tr>\n",
       "    <tr>\n",
       "      <th>29</th>\n",
       "      <td>0</td>\n",
       "      <td>0</td>\n",
       "    </tr>\n",
       "    <tr>\n",
       "      <th>33</th>\n",
       "      <td>1</td>\n",
       "      <td>1</td>\n",
       "    </tr>\n",
       "    <tr>\n",
       "      <th>36</th>\n",
       "      <td>1</td>\n",
       "      <td>1</td>\n",
       "    </tr>\n",
       "    <tr>\n",
       "      <th>41</th>\n",
       "      <td>0</td>\n",
       "      <td>0</td>\n",
       "    </tr>\n",
       "    <tr>\n",
       "      <th>60</th>\n",
       "      <td>0</td>\n",
       "      <td>0</td>\n",
       "    </tr>\n",
       "    <tr>\n",
       "      <th>78</th>\n",
       "      <td>1</td>\n",
       "      <td>1</td>\n",
       "    </tr>\n",
       "  </tbody>\n",
       "</table>\n",
       "</div>"
      ],
      "text/plain": [
       "    Actual  Predicted\n",
       "2        1          1\n",
       "4        0          0\n",
       "8        0          0\n",
       "16       0          0\n",
       "29       0          0\n",
       "33       1          1\n",
       "36       1          1\n",
       "41       0          0\n",
       "60       0          0\n",
       "78       1          1"
      ]
     },
     "execution_count": 19,
     "metadata": {},
     "output_type": "execute_result"
    }
   ],
   "source": [
    "results_df = pd.DataFrame({'Predicted': predicted_labels, 'Actual': test_labels})\n",
    "results_df.head(10)"
   ]
  },
  {
   "cell_type": "markdown",
   "metadata": {},
   "source": [
    "### Evaluate on test data"
   ]
  },
  {
   "cell_type": "code",
   "execution_count": 21,
   "metadata": {},
   "outputs": [
    {
     "name": "stdout",
     "output_type": "stream",
     "text": [
      "345350/345350 [==============================] - 7s 20us/sample - loss: 0.3451 - accuracy: 0.8563\n",
      "test loss, test acc: [0.3450876065613617, 0.85631096]\n"
     ]
    }
   ],
   "source": [
    "results = model.evaluate(test_df, test_labels)\n",
    "print('test loss, test acc:', results)"
   ]
  },
  {
   "cell_type": "markdown",
   "metadata": {},
   "source": [
    "### Create the confusion matrix"
   ]
  },
  {
   "cell_type": "code",
   "execution_count": 22,
   "metadata": {},
   "outputs": [],
   "source": [
    "confusion_matrix = pd.crosstab(results_df['Actual'], results_df['Predicted'], margins = True)"
   ]
  },
  {
   "cell_type": "code",
   "execution_count": 23,
   "metadata": {},
   "outputs": [
    {
     "data": {
      "text/html": [
       "<div>\n",
       "<style scoped>\n",
       "    .dataframe tbody tr th:only-of-type {\n",
       "        vertical-align: middle;\n",
       "    }\n",
       "\n",
       "    .dataframe tbody tr th {\n",
       "        vertical-align: top;\n",
       "    }\n",
       "\n",
       "    .dataframe thead th {\n",
       "        text-align: right;\n",
       "    }\n",
       "</style>\n",
       "<table border=\"1\" class=\"dataframe\">\n",
       "  <thead>\n",
       "    <tr style=\"text-align: right;\">\n",
       "      <th>Predicted</th>\n",
       "      <th>0</th>\n",
       "      <th>1</th>\n",
       "      <th>All</th>\n",
       "    </tr>\n",
       "    <tr>\n",
       "      <th>Actual</th>\n",
       "      <th></th>\n",
       "      <th></th>\n",
       "      <th></th>\n",
       "    </tr>\n",
       "  </thead>\n",
       "  <tbody>\n",
       "    <tr>\n",
       "      <th>0</th>\n",
       "      <td>172768</td>\n",
       "      <td>16789</td>\n",
       "      <td>189557</td>\n",
       "    </tr>\n",
       "    <tr>\n",
       "      <th>1</th>\n",
       "      <td>32834</td>\n",
       "      <td>122959</td>\n",
       "      <td>155793</td>\n",
       "    </tr>\n",
       "    <tr>\n",
       "      <th>All</th>\n",
       "      <td>205602</td>\n",
       "      <td>139748</td>\n",
       "      <td>345350</td>\n",
       "    </tr>\n",
       "  </tbody>\n",
       "</table>\n",
       "</div>"
      ],
      "text/plain": [
       "Predicted       0       1     All\n",
       "Actual                           \n",
       "0          172768   16789  189557\n",
       "1           32834  122959  155793\n",
       "All        205602  139748  345350"
      ]
     },
     "execution_count": 23,
     "metadata": {},
     "output_type": "execute_result"
    }
   ],
   "source": [
    "confusion_matrix"
   ]
  },
  {
   "cell_type": "markdown",
   "metadata": {},
   "source": [
    "**Accuracy**: How many observations did we label correctly out of all the observations? \n",
    "\n",
    "**Precision**: How many of those that we labeled as positive were actually positive?\n",
    "\n",
    "**Recall**: Of all the positive class labels, how many of those did we correctly predict?\n",
    "\n",
    "**F1 Score**: F1-Score is a combination of both recall and precision. The F1 Score is low if one measure is improved at the expense of the other. For example, if Precision is 1 and Recall is 0, the F1 score is 0."
   ]
  },
  {
   "cell_type": "code",
   "execution_count": 24,
   "metadata": {},
   "outputs": [],
   "source": [
    "TP = confusion_matrix.loc[1, 1]\n",
    "FP = confusion_matrix.loc[0, 1]\n",
    "TN = confusion_matrix.loc[0, 0]\n",
    "FN = confusion_matrix.loc[1, 0]"
   ]
  },
  {
   "cell_type": "code",
   "execution_count": 25,
   "metadata": {},
   "outputs": [
    {
     "data": {
      "text/plain": [
       "0.8563109888518894"
      ]
     },
     "execution_count": 25,
     "metadata": {},
     "output_type": "execute_result"
    }
   ],
   "source": [
    "accuracy = (TP+TN)/(TP+FP+FN+TN)\n",
    "accuracy"
   ]
  },
  {
   "cell_type": "code",
   "execution_count": 26,
   "metadata": {},
   "outputs": [
    {
     "data": {
      "text/plain": [
       "0.8798623236110713"
      ]
     },
     "execution_count": 26,
     "metadata": {},
     "output_type": "execute_result"
    }
   ],
   "source": [
    "precision = TP/(TP+FP)\n",
    "precision"
   ]
  },
  {
   "cell_type": "code",
   "execution_count": 27,
   "metadata": {},
   "outputs": [
    {
     "data": {
      "text/plain": [
       "0.7892459866617884"
      ]
     },
     "execution_count": 27,
     "metadata": {},
     "output_type": "execute_result"
    }
   ],
   "source": [
    "recall = TP/(TP+FN)\n",
    "recall"
   ]
  },
  {
   "cell_type": "code",
   "execution_count": 28,
   "metadata": {},
   "outputs": [
    {
     "data": {
      "text/plain": [
       "0.8320943625419146"
      ]
     },
     "execution_count": 28,
     "metadata": {},
     "output_type": "execute_result"
    }
   ],
   "source": [
    "f1 = 2*(recall * precision) / (recall + precision)\n",
    "f1"
   ]
  },
  {
   "cell_type": "markdown",
   "metadata": {},
   "source": [
    "## Exporting the Model for Production"
   ]
  },
  {
   "cell_type": "code",
   "execution_count": 25,
   "metadata": {},
   "outputs": [],
   "source": [
    "tf.saved_model.save(model, \"model/1/\")"
   ]
  },
  {
   "cell_type": "code",
   "execution_count": 30,
   "metadata": {},
   "outputs": [
    {
     "name": "stderr",
     "output_type": "stream",
     "text": [
      "Copying file://model/1/saved_model.pb [Content-Type=application/octet-stream]...\n",
      "Copying file://model/1/variables/variables.index [Content-Type=application/octet-stream]...\n",
      "Copying file://model/1/variables/variables.data-00000-of-00001 [Content-Type=application/octet-stream]...\n",
      "-\n",
      "Operation completed over 3 objects/43.1 KiB.                                     \n"
     ]
    }
   ],
   "source": [
    "%%bash\n",
    "gsutil cp -r model/1/ gs://tensorflow-ml-course-blob/models"
   ]
  },
  {
   "cell_type": "markdown",
   "metadata": {},
   "source": [
    "## Deploy to AI Platform"
   ]
  },
  {
   "cell_type": "code",
   "execution_count": 87,
   "metadata": {},
   "outputs": [
    {
     "name": "stderr",
     "output_type": "stream",
     "text": [
      "WARNING: `--regions` flag will soon be required. Please explicitly specify a region. Using [us-central1] by default.\n",
      "Created ml engine model [projects/tensorflow-ml-course/models/flights_logistic_regression].\n"
     ]
    }
   ],
   "source": [
    "%%bash\n",
    "gcloud ai-platform models create flights_logistic_regression"
   ]
  },
  {
   "cell_type": "code",
   "execution_count": 88,
   "metadata": {},
   "outputs": [
    {
     "name": "stderr",
     "output_type": "stream",
     "text": [
      "Creating version (this might take a few minutes)......\n",
      ".............................................................................................................................................................................................................................................................................................................................................................................................................................................................................................................................................................................................................................................................................done.\n"
     ]
    }
   ],
   "source": [
    "%%bash\n",
    "\n",
    "MODEL_DIR=\"gs://tensorflow-ml-course-blob/models/1\"\n",
    "VERSION_NAME=\"v1\"\n",
    "MODEL_NAME=\"flights_logistic_regression\"\n",
    "FRAMEWORK=\"tensorflow\"\n",
    "\n",
    "gcloud ai-platform versions create $VERSION_NAME \\\n",
    "  --model $MODEL_NAME \\\n",
    "  --origin $MODEL_DIR \\\n",
    "  --runtime-version=1.14 \\\n",
    "  --framework $FRAMEWORK \\\n",
    "  --python-version=3.5"
   ]
  },
  {
   "cell_type": "code",
   "execution_count": null,
   "metadata": {},
   "outputs": [],
   "source": []
  },
  {
   "cell_type": "code",
   "execution_count": null,
   "metadata": {},
   "outputs": [],
   "source": []
  },
  {
   "cell_type": "code",
   "execution_count": null,
   "metadata": {},
   "outputs": [],
   "source": []
  },
  {
   "cell_type": "code",
   "execution_count": null,
   "metadata": {},
   "outputs": [],
   "source": []
  },
  {
   "cell_type": "code",
   "execution_count": null,
   "metadata": {},
   "outputs": [],
   "source": []
  },
  {
   "cell_type": "code",
   "execution_count": null,
   "metadata": {},
   "outputs": [],
   "source": []
  },
  {
   "cell_type": "code",
   "execution_count": null,
   "metadata": {},
   "outputs": [],
   "source": []
  }
 ],
 "metadata": {
  "kernelspec": {
   "display_name": "Python 3",
   "language": "python",
   "name": "python3"
  },
  "language_info": {
   "codemirror_mode": {
    "name": "ipython",
    "version": 3
   },
   "file_extension": ".py",
   "mimetype": "text/x-python",
   "name": "python",
   "nbconvert_exporter": "python",
   "pygments_lexer": "ipython3",
   "version": "3.5.3"
  }
 },
 "nbformat": 4,
 "nbformat_minor": 2
}
