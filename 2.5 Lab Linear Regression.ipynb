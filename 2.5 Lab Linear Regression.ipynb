{
 "cells": [
  {
   "cell_type": "markdown",
   "metadata": {},
   "source": [
    "# Linear Regression in TensorFlow"
   ]
  },
  {
   "cell_type": "markdown",
   "metadata": {},
   "source": [
    "## Import Packages"
   ]
  },
  {
   "cell_type": "code",
   "execution_count": 1,
   "metadata": {},
   "outputs": [],
   "source": [
    "import tensorflow as tf\n",
    "import numpy as np\n",
    "import pandas as pd\n",
    "import matplotlib.pyplot as plt"
   ]
  },
  {
   "cell_type": "code",
   "execution_count": 2,
   "metadata": {},
   "outputs": [
    {
     "data": {
      "text/plain": [
       "'2.0.0-beta1'"
      ]
     },
     "execution_count": 2,
     "metadata": {},
     "output_type": "execute_result"
    }
   ],
   "source": [
    "tf.__version__"
   ]
  },
  {
   "cell_type": "markdown",
   "metadata": {},
   "source": [
    "## Loading Data & Preprocessing\n"
   ]
  },
  {
   "cell_type": "code",
   "execution_count": 3,
   "metadata": {},
   "outputs": [
    {
     "name": "stdout",
     "output_type": "stream",
     "text": [
      "Executing query with job ID: f6bc7ff4-1cec-4f38-8648-7cc8fb55d5a3\n",
      "Query executing: 0.50s\n",
      "Query complete after 0.97s\n"
     ]
    }
   ],
   "source": [
    "%%bigquery flights_df --verbose\n",
    "SELECT date,\n",
    "       airline,\n",
    "       departure_airport,\n",
    "       arrival_airport,\n",
    "       departure_lat,\n",
    "       departure_lon,\n",
    "       arrival_lat,\n",
    "       arrival_lon,\n",
    "       departure_delay,\n",
    "       arrival_delay\n",
    "FROM `bigquery-samples.airline_ontime_data.flights`\n",
    "Where departure_airport = 'SFO' AND date >= '2009-01-01' AND date <= '2009-12-31'"
   ]
  },
  {
   "cell_type": "code",
   "execution_count": 4,
   "metadata": {},
   "outputs": [
    {
     "data": {
      "text/plain": [
       "(134990, 10)"
      ]
     },
     "execution_count": 4,
     "metadata": {},
     "output_type": "execute_result"
    }
   ],
   "source": [
    "flights_df.shape"
   ]
  },
  {
   "cell_type": "code",
   "execution_count": 5,
   "metadata": {},
   "outputs": [
    {
     "data": {
      "text/html": [
       "<div>\n",
       "<style scoped>\n",
       "    .dataframe tbody tr th:only-of-type {\n",
       "        vertical-align: middle;\n",
       "    }\n",
       "\n",
       "    .dataframe tbody tr th {\n",
       "        vertical-align: top;\n",
       "    }\n",
       "\n",
       "    .dataframe thead th {\n",
       "        text-align: right;\n",
       "    }\n",
       "</style>\n",
       "<table border=\"1\" class=\"dataframe\">\n",
       "  <thead>\n",
       "    <tr style=\"text-align: right;\">\n",
       "      <th></th>\n",
       "      <th>date</th>\n",
       "      <th>airline</th>\n",
       "      <th>departure_airport</th>\n",
       "      <th>arrival_airport</th>\n",
       "      <th>departure_lat</th>\n",
       "      <th>departure_lon</th>\n",
       "      <th>arrival_lat</th>\n",
       "      <th>arrival_lon</th>\n",
       "      <th>departure_delay</th>\n",
       "      <th>arrival_delay</th>\n",
       "    </tr>\n",
       "  </thead>\n",
       "  <tbody>\n",
       "    <tr>\n",
       "      <th>0</th>\n",
       "      <td>2009-04-30</td>\n",
       "      <td>NW</td>\n",
       "      <td>SFO</td>\n",
       "      <td>MSP</td>\n",
       "      <td>37.61</td>\n",
       "      <td>-122.37</td>\n",
       "      <td>44.88</td>\n",
       "      <td>-93.22</td>\n",
       "      <td>-8.0</td>\n",
       "      <td>-4.0</td>\n",
       "    </tr>\n",
       "    <tr>\n",
       "      <th>1</th>\n",
       "      <td>2009-04-29</td>\n",
       "      <td>NW</td>\n",
       "      <td>SFO</td>\n",
       "      <td>MSP</td>\n",
       "      <td>37.61</td>\n",
       "      <td>-122.37</td>\n",
       "      <td>44.88</td>\n",
       "      <td>-93.22</td>\n",
       "      <td>-7.0</td>\n",
       "      <td>-27.0</td>\n",
       "    </tr>\n",
       "    <tr>\n",
       "      <th>2</th>\n",
       "      <td>2009-04-28</td>\n",
       "      <td>NW</td>\n",
       "      <td>SFO</td>\n",
       "      <td>MSP</td>\n",
       "      <td>37.61</td>\n",
       "      <td>-122.37</td>\n",
       "      <td>44.88</td>\n",
       "      <td>-93.22</td>\n",
       "      <td>-5.0</td>\n",
       "      <td>-10.0</td>\n",
       "    </tr>\n",
       "    <tr>\n",
       "      <th>3</th>\n",
       "      <td>2009-04-27</td>\n",
       "      <td>NW</td>\n",
       "      <td>SFO</td>\n",
       "      <td>MSP</td>\n",
       "      <td>37.61</td>\n",
       "      <td>-122.37</td>\n",
       "      <td>44.88</td>\n",
       "      <td>-93.22</td>\n",
       "      <td>-9.0</td>\n",
       "      <td>-7.0</td>\n",
       "    </tr>\n",
       "    <tr>\n",
       "      <th>4</th>\n",
       "      <td>2009-04-26</td>\n",
       "      <td>NW</td>\n",
       "      <td>SFO</td>\n",
       "      <td>MSP</td>\n",
       "      <td>37.61</td>\n",
       "      <td>-122.37</td>\n",
       "      <td>44.88</td>\n",
       "      <td>-93.22</td>\n",
       "      <td>-3.0</td>\n",
       "      <td>-15.0</td>\n",
       "    </tr>\n",
       "  </tbody>\n",
       "</table>\n",
       "</div>"
      ],
      "text/plain": [
       "         date airline departure_airport arrival_airport  departure_lat  \\\n",
       "0  2009-04-30      NW               SFO             MSP          37.61   \n",
       "1  2009-04-29      NW               SFO             MSP          37.61   \n",
       "2  2009-04-28      NW               SFO             MSP          37.61   \n",
       "3  2009-04-27      NW               SFO             MSP          37.61   \n",
       "4  2009-04-26      NW               SFO             MSP          37.61   \n",
       "\n",
       "   departure_lon  arrival_lat  arrival_lon  departure_delay  arrival_delay  \n",
       "0        -122.37        44.88       -93.22             -8.0           -4.0  \n",
       "1        -122.37        44.88       -93.22             -7.0          -27.0  \n",
       "2        -122.37        44.88       -93.22             -5.0          -10.0  \n",
       "3        -122.37        44.88       -93.22             -9.0           -7.0  \n",
       "4        -122.37        44.88       -93.22             -3.0          -15.0  "
      ]
     },
     "execution_count": 5,
     "metadata": {},
     "output_type": "execute_result"
    }
   ],
   "source": [
    "flights_df.head()"
   ]
  },
  {
   "cell_type": "code",
   "execution_count": 6,
   "metadata": {},
   "outputs": [],
   "source": [
    "flights_processed_df = (flights_df\n",
    "                        .query('1 <= departure_delay <= 120')\n",
    "                        .dropna()\n",
    "                        .filter(['departure_delay', 'arrival_delay'])\n",
    "                       )"
   ]
  },
  {
   "cell_type": "code",
   "execution_count": 7,
   "metadata": {},
   "outputs": [
    {
     "data": {
      "text/plain": [
       "<matplotlib.axes._subplots.AxesSubplot at 0x7fafdb9927f0>"
      ]
     },
     "execution_count": 7,
     "metadata": {},
     "output_type": "execute_result"
    },
    {
     "data": {
      "image/png": "[encoded data removed]",
      "text/plain": [
       "<Figure size 432x288 with 1 Axes>"
      ]
     },
     "metadata": {
      "needs_background": "light"
     },
     "output_type": "display_data"
    }
   ],
   "source": [
    "(flights_processed_df\n",
    " .sample(n=100, random_state = 123)\n",
    " .plot.scatter('departure_delay', 'arrival_delay'))"
   ]
  },
  {
   "cell_type": "markdown",
   "metadata": {},
   "source": [
    "Let's try to model this using linear regression."
   ]
  },
  {
   "cell_type": "markdown",
   "metadata": {},
   "source": [
    "## Simple Linear Regression"
   ]
  },
  {
   "cell_type": "markdown",
   "metadata": {},
   "source": [
    "### Training-Testing-Split"
   ]
  },
  {
   "cell_type": "markdown",
   "metadata": {},
   "source": [
    "Split the data into training and testing set. Separate features from labels. Ignore missing values for now."
   ]
  },
  {
   "cell_type": "code",
   "execution_count": 8,
   "metadata": {},
   "outputs": [],
   "source": [
    "train_df = flights_processed_df.sample(frac=0.8,random_state=123)\n",
    "test_df = flights_processed_df.drop(train_df.index)\n",
    "\n",
    "train_labels = train_df.pop('arrival_delay')\n",
    "test_labels = test_df.pop('arrival_delay')"
   ]
  },
  {
   "cell_type": "markdown",
   "metadata": {},
   "source": [
    "### Building the Model"
   ]
  },
  {
   "cell_type": "code",
   "execution_count": 9,
   "metadata": {},
   "outputs": [],
   "source": [
    "# Initialize a Sequential model using TF.Keras API:\n",
    "tf.keras.backend.clear_session()\n",
    "\n",
    "model = tf.keras.models.Sequential([\n",
    "    \n",
    "    # Adds a densely-connected layer with 1 unit to the model:\n",
    "    tf.keras.layers.Dense(1, activation='linear', input_shape = [len(train_df.keys())])\n",
    "    \n",
    "])\n",
    "\n",
    "\n",
    "model.compile(optimizer=tf.keras.optimizers.RMSprop(),\n",
    "              loss='mean_squared_error',\n",
    "              metrics=['mean_absolute_error', 'mean_squared_error'],\n",
    "             )"
   ]
  },
  {
   "cell_type": "markdown",
   "metadata": {},
   "source": [
    "![](linear_node_1.png)"
   ]
  },
  {
   "cell_type": "code",
   "execution_count": 10,
   "metadata": {},
   "outputs": [
    {
     "name": "stdout",
     "output_type": "stream",
     "text": [
      "Model: \"sequential\"\n",
      "_________________________________________________________________\n",
      "Layer (type)                 Output Shape              Param #   \n",
      "=================================================================\n",
      "dense (Dense)                (None, 1)                 2         \n",
      "=================================================================\n",
      "Total params: 2\n",
      "Trainable params: 2\n",
      "Non-trainable params: 0\n",
      "_________________________________________________________________\n"
     ]
    }
   ],
   "source": [
    "model.summary()"
   ]
  },
  {
   "cell_type": "markdown",
   "metadata": {},
   "source": [
    "The model has 2 free parameters which is simple regression y = w0*x0 + b. When we compile the model, random weights and no bias will be initialized."
   ]
  },
  {
   "cell_type": "code",
   "execution_count": 11,
   "metadata": {},
   "outputs": [
    {
     "data": {
      "text/plain": [
       "[array([[-0.93762565]], dtype=float32), array([0.], dtype=float32)]"
      ]
     },
     "execution_count": 11,
     "metadata": {},
     "output_type": "execute_result"
    }
   ],
   "source": [
    "model.get_weights()"
   ]
  },
  {
   "cell_type": "markdown",
   "metadata": {},
   "source": [
    "### Testing the model architecture"
   ]
  },
  {
   "cell_type": "code",
   "execution_count": 12,
   "metadata": {},
   "outputs": [
    {
     "name": "stdout",
     "output_type": "stream",
     "text": [
      "        departure_delay\n",
      "84174               2.0\n",
      "69887              52.0\n",
      "36578               5.0\n",
      "132614             23.0\n",
      "34780               1.0\n"
     ]
    },
    {
     "data": {
      "text/plain": [
       "array([[ -1.8752513 ],\n",
       "       [-48.756535  ],\n",
       "       [ -4.6881285 ],\n",
       "       [-21.56539   ],\n",
       "       [ -0.93762565]], dtype=float32)"
      ]
     },
     "execution_count": 12,
     "metadata": {},
     "output_type": "execute_result"
    }
   ],
   "source": [
    "example_batch = train_df[:5]\n",
    "print(example_batch)\n",
    "\n",
    "model.predict(example_batch)"
   ]
  },
  {
   "cell_type": "markdown",
   "metadata": {},
   "source": [
    "The model is predicting something. Currently it doesn't make sense, because the model wasn't fitted to the data. But we'll work on that now!"
   ]
  },
  {
   "cell_type": "markdown",
   "metadata": {},
   "source": [
    "### Training the model"
   ]
  },
  {
   "cell_type": "code",
   "execution_count": 13,
   "metadata": {},
   "outputs": [
    {
     "name": "stdout",
     "output_type": "stream",
     "text": [
      "Train on 38228 samples\n",
      "Epoch 1/10\n",
      "38228/38228 [==============================] - 2s 42us/sample - loss: 2984.9891 - mean_absolute_error: 36.1613 - mean_squared_error: 2984.9883\n",
      "Epoch 2/10\n",
      "38228/38228 [==============================] - 1s 35us/sample - loss: 349.0500 - mean_absolute_error: 13.1715 - mean_squared_error: 349.0502\n",
      "Epoch 3/10\n",
      "38228/38228 [==============================] - 1s 34us/sample - loss: 179.5396 - mean_absolute_error: 10.0204 - mean_squared_error: 179.5396\n",
      "Epoch 4/10\n",
      "38228/38228 [==============================] - 1s 34us/sample - loss: 173.8846 - mean_absolute_error: 9.7871 - mean_squared_error: 173.8846\n",
      "Epoch 5/10\n",
      "38228/38228 [==============================] - 1s 36us/sample - loss: 169.4330 - mean_absolute_error: 9.6010 - mean_squared_error: 169.4330\n",
      "Epoch 6/10\n",
      "38228/38228 [==============================] - 1s 34us/sample - loss: 166.0738 - mean_absolute_error: 9.4520 - mean_squared_error: 166.0739\n",
      "Epoch 7/10\n",
      "38228/38228 [==============================] - 1s 33us/sample - loss: 163.5752 - mean_absolute_error: 9.3392 - mean_squared_error: 163.5752\n",
      "Epoch 8/10\n",
      "38228/38228 [==============================] - 1s 34us/sample - loss: 161.9085 - mean_absolute_error: 9.2562 - mean_squared_error: 161.9085\n",
      "Epoch 9/10\n",
      "38228/38228 [==============================] - 1s 34us/sample - loss: 160.8144 - mean_absolute_error: 9.2001 - mean_squared_error: 160.8143\n",
      "Epoch 10/10\n",
      "38228/38228 [==============================] - 1s 35us/sample - loss: 160.1118 - mean_absolute_error: 9.1636 - mean_squared_error: 160.1119\n"
     ]
    }
   ],
   "source": [
    "history = model.fit(train_df, train_labels, \n",
    "                    epochs=10,\n",
    "                    callbacks=[tf.keras.callbacks.TensorBoard(\"logs/simple-regression\")])"
   ]
  },
  {
   "cell_type": "code",
   "execution_count": 14,
   "metadata": {},
   "outputs": [
    {
     "data": {
      "text/plain": [
       "[array([[0.9832586]], dtype=float32), array([-4.2184663], dtype=float32)]"
      ]
     },
     "execution_count": 14,
     "metadata": {},
     "output_type": "execute_result"
    }
   ],
   "source": [
    "model.get_weights()"
   ]
  },
  {
   "cell_type": "markdown",
   "metadata": {},
   "source": [
    "See how the model weights were fitted to our data. Let's see how the fitted regression performs:"
   ]
  },
  {
   "cell_type": "markdown",
   "metadata": {},
   "source": [
    "### Performance evaluation of simple regression on test data"
   ]
  },
  {
   "cell_type": "code",
   "execution_count": 15,
   "metadata": {},
   "outputs": [
    {
     "data": {
      "text/html": [
       "<div>\n",
       "<style scoped>\n",
       "    .dataframe tbody tr th:only-of-type {\n",
       "        vertical-align: middle;\n",
       "    }\n",
       "\n",
       "    .dataframe tbody tr th {\n",
       "        vertical-align: top;\n",
       "    }\n",
       "\n",
       "    .dataframe thead th {\n",
       "        text-align: right;\n",
       "    }\n",
       "</style>\n",
       "<table border=\"1\" class=\"dataframe\">\n",
       "  <thead>\n",
       "    <tr style=\"text-align: right;\">\n",
       "      <th></th>\n",
       "      <th>Actual</th>\n",
       "      <th>Predicted</th>\n",
       "    </tr>\n",
       "  </thead>\n",
       "  <tbody>\n",
       "    <tr>\n",
       "      <th>8</th>\n",
       "      <td>17.0</td>\n",
       "      <td>19.379740</td>\n",
       "    </tr>\n",
       "    <tr>\n",
       "      <th>35</th>\n",
       "      <td>-9.0</td>\n",
       "      <td>1.681085</td>\n",
       "    </tr>\n",
       "    <tr>\n",
       "      <th>72</th>\n",
       "      <td>5.0</td>\n",
       "      <td>7.580637</td>\n",
       "    </tr>\n",
       "    <tr>\n",
       "      <th>95</th>\n",
       "      <td>-9.0</td>\n",
       "      <td>-2.251949</td>\n",
       "    </tr>\n",
       "    <tr>\n",
       "      <th>119</th>\n",
       "      <td>19.0</td>\n",
       "      <td>-2.251949</td>\n",
       "    </tr>\n",
       "  </tbody>\n",
       "</table>\n",
       "</div>"
      ],
      "text/plain": [
       "     Actual  Predicted\n",
       "8      17.0  19.379740\n",
       "35     -9.0   1.681085\n",
       "72      5.0   7.580637\n",
       "95     -9.0  -2.251949\n",
       "119    19.0  -2.251949"
      ]
     },
     "execution_count": 15,
     "metadata": {},
     "output_type": "execute_result"
    }
   ],
   "source": [
    "test_predictions = model.predict(test_df).flatten()\n",
    "results_df = pd.DataFrame({'Predicted': test_predictions, 'Actual': test_labels})\n",
    "results_df.head(5)"
   ]
  },
  {
   "cell_type": "code",
   "execution_count": 16,
   "metadata": {},
   "outputs": [
    {
     "data": {
      "text/plain": [
       "<matplotlib.axes._subplots.AxesSubplot at 0x7fafd5e1d978>"
      ]
     },
     "execution_count": 16,
     "metadata": {},
     "output_type": "execute_result"
    },
    {
     "data": {
      "image/png": "[encoded data removed]",
      "text/plain": [
       "<Figure size 432x288 with 1 Axes>"
      ]
     },
     "metadata": {
      "needs_background": "light"
     },
     "output_type": "display_data"
    }
   ],
   "source": [
    "(results_df\n",
    " .sample(n=200, random_state = 123)\n",
    " .plot.scatter('Actual', 'Predicted')\n",
    ")"
   ]
  },
  {
   "cell_type": "markdown",
   "metadata": {},
   "source": [
    "The model still shows a lot of scatter."
   ]
  },
  {
   "cell_type": "code",
   "execution_count": 17,
   "metadata": {},
   "outputs": [
    {
     "data": {
      "image/png": "[encoded data removed]",
      "text/plain": [
       "<Figure size 432x288 with 1 Axes>"
      ]
     },
     "metadata": {
      "needs_background": "light"
     },
     "output_type": "display_data"
    }
   ],
   "source": [
    "error = test_predictions - test_labels\n",
    "plt.hist(error, bins = 25)\n",
    "plt.xlabel(\"Prediction Error [Departure_Delay]\")\n",
    "_ = plt.ylabel(\"Count\")"
   ]
  },
  {
   "cell_type": "markdown",
   "metadata": {},
   "source": [
    "More concretely, our model seems to be a little bit too optimistic about arrival delays. We are predicting less delay than actually observed."
   ]
  },
  {
   "cell_type": "code",
   "execution_count": 18,
   "metadata": {},
   "outputs": [
    {
     "data": {
      "text/plain": [
       "9.108514994049193"
      ]
     },
     "execution_count": 18,
     "metadata": {},
     "output_type": "execute_result"
    }
   ],
   "source": [
    "test_mae = abs(error).mean()\n",
    "\n",
    "test_mae"
   ]
  },
  {
   "cell_type": "markdown",
   "metadata": {},
   "source": [
    "On average, we are missing the true value by about 9 Minutes."
   ]
  },
  {
   "cell_type": "markdown",
   "metadata": {},
   "source": [
    "## Multiple Linear Regression"
   ]
  },
  {
   "cell_type": "markdown",
   "metadata": {},
   "source": [
    "Let's try to improve our model by adding more complexity, i.e. features. Here we will add the distance between the origin and destination airport. "
   ]
  },
  {
   "cell_type": "markdown",
   "metadata": {},
   "source": [
    "Unfortunately the dataset does not contain the distance. We have to calculate it from the coordinates."
   ]
  },
  {
   "cell_type": "code",
   "execution_count": null,
   "metadata": {},
   "outputs": [],
   "source": [
    "pip install geopy"
   ]
  },
  {
   "cell_type": "code",
   "execution_count": 19,
   "metadata": {},
   "outputs": [],
   "source": [
    "import geopy.distance\n",
    "coords_1 = (38.94, -77.46)\n",
    "coords_2 = (40.77, -73.87)"
   ]
  },
  {
   "cell_type": "code",
   "execution_count": 20,
   "metadata": {},
   "outputs": [
    {
     "data": {
      "text/plain": [
       "368.27546093077206"
      ]
     },
     "execution_count": 20,
     "metadata": {},
     "output_type": "execute_result"
    }
   ],
   "source": [
    "geopy.distance.distance(coords_1, coords_2).km"
   ]
  },
  {
   "cell_type": "code",
   "execution_count": 21,
   "metadata": {},
   "outputs": [],
   "source": [
    "# Calculate distance for each route\n",
    "def coords_to_distance(row):\n",
    "    coords_start = (row['departure_lat'], row['departure_lon'])\n",
    "    coors_end = (row['arrival_lat'], row['arrival_lon'])\n",
    "    distance = geopy.distance.distance(coords_start, coors_end).km\n",
    "    return(distance)\n",
    "\n",
    "def get_route_key(row):\n",
    "    return row['departure_airport']+row['arrival_airport']\n",
    "\n",
    "distances_df = (flights_df[['departure_airport', 'arrival_airport', 'departure_lon', 'departure_lat', 'arrival_lon', 'arrival_lat']]\n",
    "                .drop_duplicates()\n",
    "                .assign(route_key = get_route_key)\n",
    "               )\n",
    "distances_df['distance'] = distances_df.apply(coords_to_distance, axis=1)\n",
    "distances_df = distances_df[['route_key', 'distance']]\n",
    "\n",
    "# Add distances to flights_processed_df\n",
    "flights_processed_df = (flights_df\n",
    "                        .query('1 <= departure_delay <= 120')\n",
    "                        .assign(route_key = get_route_key)\n",
    "                        .merge(distances_df)\n",
    "                        .dropna()\n",
    "                        .filter(['departure_delay', 'distance', 'arrival_delay'])\n",
    "                       )"
   ]
  },
  {
   "cell_type": "code",
   "execution_count": 22,
   "metadata": {},
   "outputs": [
    {
     "data": {
      "text/html": [
       "<div>\n",
       "<style scoped>\n",
       "    .dataframe tbody tr th:only-of-type {\n",
       "        vertical-align: middle;\n",
       "    }\n",
       "\n",
       "    .dataframe tbody tr th {\n",
       "        vertical-align: top;\n",
       "    }\n",
       "\n",
       "    .dataframe thead th {\n",
       "        text-align: right;\n",
       "    }\n",
       "</style>\n",
       "<table border=\"1\" class=\"dataframe\">\n",
       "  <thead>\n",
       "    <tr style=\"text-align: right;\">\n",
       "      <th></th>\n",
       "      <th>departure_delay</th>\n",
       "      <th>distance</th>\n",
       "      <th>arrival_delay</th>\n",
       "    </tr>\n",
       "  </thead>\n",
       "  <tbody>\n",
       "    <tr>\n",
       "      <th>0</th>\n",
       "      <td>24.0</td>\n",
       "      <td>2557.17428</td>\n",
       "      <td>17.0</td>\n",
       "    </tr>\n",
       "    <tr>\n",
       "      <th>1</th>\n",
       "      <td>1.0</td>\n",
       "      <td>2557.17428</td>\n",
       "      <td>12.0</td>\n",
       "    </tr>\n",
       "    <tr>\n",
       "      <th>2</th>\n",
       "      <td>8.0</td>\n",
       "      <td>2557.17428</td>\n",
       "      <td>-5.0</td>\n",
       "    </tr>\n",
       "    <tr>\n",
       "      <th>3</th>\n",
       "      <td>9.0</td>\n",
       "      <td>2557.17428</td>\n",
       "      <td>10.0</td>\n",
       "    </tr>\n",
       "    <tr>\n",
       "      <th>4</th>\n",
       "      <td>6.0</td>\n",
       "      <td>2557.17428</td>\n",
       "      <td>-9.0</td>\n",
       "    </tr>\n",
       "  </tbody>\n",
       "</table>\n",
       "</div>"
      ],
      "text/plain": [
       "   departure_delay    distance  arrival_delay\n",
       "0             24.0  2557.17428           17.0\n",
       "1              1.0  2557.17428           12.0\n",
       "2              8.0  2557.17428           -5.0\n",
       "3              9.0  2557.17428           10.0\n",
       "4              6.0  2557.17428           -9.0"
      ]
     },
     "execution_count": 22,
     "metadata": {},
     "output_type": "execute_result"
    }
   ],
   "source": [
    "flights_processed_df.head()"
   ]
  },
  {
   "cell_type": "code",
   "execution_count": 23,
   "metadata": {},
   "outputs": [],
   "source": [
    "train_df = flights_processed_df.sample(frac=0.8,random_state=123)\n",
    "test_df = flights_processed_df.drop(train_df.index)\n",
    "\n",
    "train_labels = train_df.pop('arrival_delay')\n",
    "test_labels = test_df.pop('arrival_delay')"
   ]
  },
  {
   "cell_type": "code",
   "execution_count": 24,
   "metadata": {},
   "outputs": [
    {
     "data": {
      "text/html": [
       "<div>\n",
       "<style scoped>\n",
       "    .dataframe tbody tr th:only-of-type {\n",
       "        vertical-align: middle;\n",
       "    }\n",
       "\n",
       "    .dataframe tbody tr th {\n",
       "        vertical-align: top;\n",
       "    }\n",
       "\n",
       "    .dataframe thead th {\n",
       "        text-align: right;\n",
       "    }\n",
       "</style>\n",
       "<table border=\"1\" class=\"dataframe\">\n",
       "  <thead>\n",
       "    <tr style=\"text-align: right;\">\n",
       "      <th></th>\n",
       "      <th>departure_delay</th>\n",
       "      <th>distance</th>\n",
       "    </tr>\n",
       "  </thead>\n",
       "  <tbody>\n",
       "    <tr>\n",
       "      <th>28571</th>\n",
       "      <td>28.0</td>\n",
       "      <td>4057.569368</td>\n",
       "    </tr>\n",
       "    <tr>\n",
       "      <th>23431</th>\n",
       "      <td>10.0</td>\n",
       "      <td>3937.662438</td>\n",
       "    </tr>\n",
       "    <tr>\n",
       "      <th>12520</th>\n",
       "      <td>17.0</td>\n",
       "      <td>4162.755462</td>\n",
       "    </tr>\n",
       "    <tr>\n",
       "      <th>47094</th>\n",
       "      <td>5.0</td>\n",
       "      <td>964.126289</td>\n",
       "    </tr>\n",
       "    <tr>\n",
       "      <th>11796</th>\n",
       "      <td>39.0</td>\n",
       "      <td>4162.755462</td>\n",
       "    </tr>\n",
       "  </tbody>\n",
       "</table>\n",
       "</div>"
      ],
      "text/plain": [
       "       departure_delay     distance\n",
       "28571             28.0  4057.569368\n",
       "23431             10.0  3937.662438\n",
       "12520             17.0  4162.755462\n",
       "47094              5.0   964.126289\n",
       "11796             39.0  4162.755462"
      ]
     },
     "execution_count": 24,
     "metadata": {},
     "output_type": "execute_result"
    }
   ],
   "source": [
    "train_df.head()"
   ]
  },
  {
   "cell_type": "code",
   "execution_count": 25,
   "metadata": {},
   "outputs": [],
   "source": [
    "# Initialize a Sequential model using TF.Keras API:\n",
    "tf.keras.backend.clear_session()\n",
    "\n",
    "model = tf.keras.models.Sequential([\n",
    "    \n",
    "    # Adds a densely-connected layer with 1 unit to the model:\n",
    "    tf.keras.layers.Dense(1, activation='linear', input_shape = [len(train_df.keys())])\n",
    "    \n",
    "])\n",
    "\n",
    "model.compile(optimizer=tf.keras.optimizers.RMSprop(),\n",
    "              loss='mean_squared_error',\n",
    "              metrics=['mean_absolute_error', 'mean_squared_error'])"
   ]
  },
  {
   "cell_type": "markdown",
   "metadata": {},
   "source": [
    "![](linear_node_n.png)"
   ]
  },
  {
   "cell_type": "code",
   "execution_count": 26,
   "metadata": {},
   "outputs": [
    {
     "name": "stdout",
     "output_type": "stream",
     "text": [
      "Model: \"sequential\"\n",
      "_________________________________________________________________\n",
      "Layer (type)                 Output Shape              Param #   \n",
      "=================================================================\n",
      "dense (Dense)                (None, 1)                 3         \n",
      "=================================================================\n",
      "Total params: 3\n",
      "Trainable params: 3\n",
      "Non-trainable params: 0\n",
      "_________________________________________________________________\n"
     ]
    }
   ],
   "source": [
    "model.summary()"
   ]
  },
  {
   "cell_type": "markdown",
   "metadata": {},
   "source": [
    "Recognize that the model has 3 Parameters now: 1 bias and 2 weights for each input feature."
   ]
  },
  {
   "cell_type": "code",
   "execution_count": 27,
   "metadata": {},
   "outputs": [
    {
     "name": "stdout",
     "output_type": "stream",
     "text": [
      "Train on 38228 samples\n",
      "Epoch 1/20\n",
      "38228/38228 [==============================] - 2s 42us/sample - loss: 559349.1240 - mean_absolute_error: 403.1479 - mean_squared_error: 559348.9375\n",
      "Epoch 2/20\n",
      "38228/38228 [==============================] - 1s 34us/sample - loss: 328.5479 - mean_absolute_error: 12.7220 - mean_squared_error: 328.5479\n",
      "Epoch 3/20\n",
      "38228/38228 [==============================] - 1s 36us/sample - loss: 160.3575 - mean_absolute_error: 9.2418 - mean_squared_error: 160.3576\n",
      "Epoch 4/20\n",
      "38228/38228 [==============================] - 1s 34us/sample - loss: 160.1359 - mean_absolute_error: 9.2147 - mean_squared_error: 160.1359\n",
      "Epoch 5/20\n",
      "38228/38228 [==============================] - 1s 34us/sample - loss: 159.4031 - mean_absolute_error: 9.1953 - mean_squared_error: 159.4032\n",
      "Epoch 6/20\n",
      "38228/38228 [==============================] - 1s 33us/sample - loss: 159.6713 - mean_absolute_error: 9.1827 - mean_squared_error: 159.6713\n",
      "Epoch 7/20\n",
      "38228/38228 [==============================] - 1s 34us/sample - loss: 159.5217 - mean_absolute_error: 9.1584 - mean_squared_error: 159.5217\n",
      "Epoch 8/20\n",
      "38228/38228 [==============================] - 1s 35us/sample - loss: 158.7060 - mean_absolute_error: 9.1360 - mean_squared_error: 158.7061\n",
      "Epoch 9/20\n",
      "38228/38228 [==============================] - 1s 34us/sample - loss: 159.0995 - mean_absolute_error: 9.1279 - mean_squared_error: 159.0995\n",
      "Epoch 10/20\n",
      "38228/38228 [==============================] - 1s 35us/sample - loss: 158.4699 - mean_absolute_error: 9.1052 - mean_squared_error: 158.4699\n",
      "Epoch 11/20\n",
      "38228/38228 [==============================] - 1s 37us/sample - loss: 158.3364 - mean_absolute_error: 9.0947 - mean_squared_error: 158.3364\n",
      "Epoch 12/20\n",
      "38228/38228 [==============================] - 1s 34us/sample - loss: 158.3165 - mean_absolute_error: 9.0972 - mean_squared_error: 158.3165\n",
      "Epoch 13/20\n",
      "38228/38228 [==============================] - 1s 34us/sample - loss: 158.2009 - mean_absolute_error: 9.0777 - mean_squared_error: 158.2008\n",
      "Epoch 14/20\n",
      "38228/38228 [==============================] - 1s 34us/sample - loss: 158.2942 - mean_absolute_error: 9.0808 - mean_squared_error: 158.2941\n",
      "Epoch 15/20\n",
      "38228/38228 [==============================] - 1s 34us/sample - loss: 158.1511 - mean_absolute_error: 9.0804 - mean_squared_error: 158.1511\n",
      "Epoch 16/20\n",
      "38228/38228 [==============================] - 1s 34us/sample - loss: 158.1607 - mean_absolute_error: 9.0699 - mean_squared_error: 158.1605\n",
      "Epoch 17/20\n",
      "38228/38228 [==============================] - 1s 34us/sample - loss: 158.2717 - mean_absolute_error: 9.0783 - mean_squared_error: 158.2716\n",
      "Epoch 18/20\n",
      "38228/38228 [==============================] - 1s 33us/sample - loss: 158.2148 - mean_absolute_error: 9.0676 - mean_squared_error: 158.2147\n",
      "Epoch 19/20\n",
      "38228/38228 [==============================] - 1s 33us/sample - loss: 157.8263 - mean_absolute_error: 9.0663 - mean_squared_error: 157.8260\n",
      "Epoch 20/20\n",
      "38228/38228 [==============================] - 1s 34us/sample - loss: 158.6648 - mean_absolute_error: 9.0744 - mean_squared_error: 158.6649\n"
     ]
    }
   ],
   "source": [
    "history = model.fit(train_df, train_labels, \n",
    "                    epochs=20,\n",
    "                    callbacks=[tf.keras.callbacks.TensorBoard(\"logs/multinominal-regression\")])"
   ]
  },
  {
   "cell_type": "code",
   "execution_count": null,
   "metadata": {},
   "outputs": [],
   "source": [
    "hist = pd.DataFrame(history.history)\n",
    "hist['epoch'] = history.epoch\n",
    "hist.tail()"
   ]
  },
  {
   "cell_type": "markdown",
   "metadata": {},
   "source": [
    "### Performance evaluation of multiple regression on test data"
   ]
  },
  {
   "cell_type": "code",
   "execution_count": 28,
   "metadata": {},
   "outputs": [
    {
     "data": {
      "text/plain": [
       "9.108514994049193"
      ]
     },
     "execution_count": 28,
     "metadata": {},
     "output_type": "execute_result"
    }
   ],
   "source": [
    "test_mae = abs(error).mean()\n",
    "\n",
    "test_mae"
   ]
  },
  {
   "cell_type": "markdown",
   "metadata": {},
   "source": [
    "We didn't increase our model performance by just adding another variable.\n",
    "\n",
    "Are we already overfitting the data? Maybe our linear model can't capture the data?\n",
    "\n",
    "Let's find out in the next chapter, what we can do to improve our model performance."
   ]
  },
  {
   "cell_type": "code",
   "execution_count": null,
   "metadata": {},
   "outputs": [],
   "source": []
  }
 ],
 "metadata": {
  "kernelspec": {
   "display_name": "Python 3",
   "language": "python",
   "name": "python3"
  },
  "language_info": {
   "codemirror_mode": {
    "name": "ipython",
    "version": 3
   },
   "file_extension": ".py",
   "mimetype": "text/x-python",
   "name": "python",
   "nbconvert_exporter": "python",
   "pygments_lexer": "ipython3",
   "version": "3.5.3"
  }
 },
 "nbformat": 4,
 "nbformat_minor": 2
}
