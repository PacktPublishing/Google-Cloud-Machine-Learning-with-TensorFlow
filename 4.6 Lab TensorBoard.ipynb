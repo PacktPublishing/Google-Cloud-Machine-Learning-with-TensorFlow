{
 "cells": [
  {
   "cell_type": "markdown",
   "metadata": {
    "colab_type": "text",
    "id": "Q9kfoK59wG7x"
   },
   "source": [
    "# Monitoring Training Progress with TensorBoard"
   ]
  },
  {
   "cell_type": "markdown",
   "metadata": {
    "colab_type": "text",
    "id": "aGeI_KgNwG7y"
   },
   "source": [
    "## Project Setup"
   ]
  },
  {
   "cell_type": "code",
   "execution_count": 18,
   "metadata": {
    "colab": {},
    "colab_type": "code",
    "id": "SsHiWsKvwG7z"
   },
   "outputs": [],
   "source": [
    "import numpy as np\n",
    "import pandas as pd\n",
    "import tensorflow as tf\n",
    "import time"
   ]
  },
  {
   "cell_type": "code",
   "execution_count": 19,
   "metadata": {
    "colab": {
     "base_uri": "https://localhost:8080/",
     "height": 34
    },
    "colab_type": "code",
    "id": "OP__Zs1vwG72",
    "outputId": "837ce086-3c64-4202-cc62-23054d0b162c"
   },
   "outputs": [
    {
     "data": {
      "text/plain": [
       "'2.0.0-beta1'"
      ]
     },
     "execution_count": 19,
     "metadata": {},
     "output_type": "execute_result"
    }
   ],
   "source": [
    "tf.__version__"
   ]
  },
  {
   "cell_type": "markdown",
   "metadata": {
    "colab_type": "text",
    "id": "5CPt4KhDwG75"
   },
   "source": [
    "## Staging Data"
   ]
  },
  {
   "cell_type": "code",
   "execution_count": 20,
   "metadata": {
    "colab": {
     "base_uri": "https://localhost:8080/",
     "height": 122
    },
    "colab_type": "code",
    "id": "f98NSwIGwG76",
    "outputId": "6b56f333-77b8-4c7f-995b-4391508e05a1"
   },
   "outputs": [
    {
     "name": "stdout",
     "output_type": "stream",
     "text": [
      "Executing query with job ID: a0c57ba3-ab4f-4e38-a5a6-96dfd331649c\n",
      "Query executing: 3.94s\n",
      "Query complete after 4.72s\n"
     ]
    }
   ],
   "source": [
    "%%bigquery flights_df --project tensorflow-ml-course --verbose\n",
    "\n",
    "SELECT \n",
    "\n",
    "  -- Departure delay\n",
    "  departure_delay,\n",
    "    \n",
    "  -- Distance\n",
    "  distance,\n",
    "\n",
    "  -- Airlines\n",
    "  airline,\n",
    "    \n",
    "  -- Airports \n",
    "  departure_airport,\n",
    "  arrival_airport, \n",
    "\n",
    "  -- Date information\n",
    "  CAST(EXTRACT(DAYOFWEEK FROM departure_date) AS STRING) as departure_weekday,\n",
    "  CAST(EXTRACT(MONTH FROM departure_date) AS STRING) as departure_month,\n",
    "\n",
    "  -- Target column\n",
    "  CASE WHEN (arrival_delay >= 15) THEN 1 ELSE 0 END as delayed\n",
    "  \n",
    "  FROM ( \n",
    "    \n",
    "    -- Inner Query\n",
    "    SELECT\n",
    "      ROUND(ST_DISTANCE(ST_GEOGPOINT(departure_lon, departure_lat), ST_GEOGPOINT(arrival_lon, arrival_lat))/1000) as distance,\n",
    "      departure_delay,\n",
    "      arrival_delay,\n",
    "      PARSE_DATE(\"%Y-%m-%d\", date) AS departure_date,\n",
    "      airline,\n",
    "      departure_airport,\n",
    "      arrival_airport\n",
    "      \n",
    "    FROM\n",
    "      `bigquery-samples.airline_ontime_data.flights`\n",
    "    WHERE date >= '2009-01-01' \n",
    "    AND date <= '2009-12-31'\n",
    "    AND departure_delay > 0\n",
    "    AND RAND() < 0.3\n",
    "  )\n"
   ]
  },
  {
   "cell_type": "markdown",
   "metadata": {
    "colab_type": "text",
    "id": "ruAILk2-wG8K"
   },
   "source": [
    "## Data Preprocessing"
   ]
  },
  {
   "cell_type": "markdown",
   "metadata": {
    "colab_type": "text",
    "id": "oFHdRqNewG8K"
   },
   "source": [
    "### Training-Testing-Split"
   ]
  },
  {
   "cell_type": "code",
   "execution_count": 21,
   "metadata": {
    "colab": {},
    "colab_type": "code",
    "id": "O3hldC5ewG8L"
   },
   "outputs": [],
   "source": [
    "train_df = flights_df.sample(frac=0.8,random_state=123)\n",
    "test_df = flights_df.drop(train_df.index)"
   ]
  },
  {
   "cell_type": "code",
   "execution_count": 22,
   "metadata": {
    "colab": {
     "base_uri": "https://localhost:8080/",
     "height": 51
    },
    "colab_type": "code",
    "id": "b_N-4mOiwG8N",
    "outputId": "d2aa1008-a61d-4811-aee3-fc2ab890446e"
   },
   "outputs": [
    {
     "name": "stdout",
     "output_type": "stream",
     "text": [
      "552575 train examples\n",
      "138144 test examples\n"
     ]
    }
   ],
   "source": [
    "print(len(train_df), 'train examples')\n",
    "print(len(test_df), 'test examples')"
   ]
  },
  {
   "cell_type": "markdown",
   "metadata": {
    "colab_type": "text",
    "id": "FA4XNDy_wG8P"
   },
   "source": [
    "#### Check Label distribution"
   ]
  },
  {
   "cell_type": "code",
   "execution_count": 23,
   "metadata": {
    "colab": {
     "base_uri": "https://localhost:8080/",
     "height": 68
    },
    "colab_type": "code",
    "id": "tpm5w9s4wG8P",
    "outputId": "14b51fa0-5f20-4f19-dcbc-61d5e4b57cf3"
   },
   "outputs": [
    {
     "name": "stdout",
     "output_type": "stream",
     "text": [
      "45.1 % delay in total dataset\n",
      "45.1 % delay in total dataset\n",
      "45.1 % delay in total dataset\n"
     ]
    }
   ],
   "source": [
    "print(round(flights_df.delayed.mean(),3)*100, '% delay in total dataset')\n",
    "print(round(train_df.delayed.mean(),3)*100, '% delay in total dataset')\n",
    "print(round(test_df.delayed.mean(),3)*100, '% delay in total dataset')"
   ]
  },
  {
   "cell_type": "markdown",
   "metadata": {
    "colab_type": "text",
    "id": "LaqWf7ijwG8R"
   },
   "source": [
    "### Create input pipeline using tf.data"
   ]
  },
  {
   "cell_type": "markdown",
   "metadata": {
    "colab_type": "text",
    "id": "vjhKCMw2wG8S"
   },
   "source": [
    "#### Build a tf.data.Dataset "
   ]
  },
  {
   "cell_type": "markdown",
   "metadata": {
    "colab_type": "text",
    "id": "_qYiD_a3wG8T"
   },
   "source": [
    "Create a Batch Dataset from a Pandas Dataframe"
   ]
  },
  {
   "cell_type": "code",
   "execution_count": 24,
   "metadata": {
    "colab": {},
    "colab_type": "code",
    "id": "TSTt7R3bwG8T"
   },
   "outputs": [],
   "source": [
    "def dataframe_to_dataset(dataframe, labels = 'delayed', shuffle=True, batch_size=32):\n",
    "    # Creates a tf.data dataset from a Pandas Dataframe\n",
    "    dataframe = dataframe.copy()\n",
    "    labels = dataframe.pop(labels)\n",
    "    dataset = tf.data.Dataset.from_tensor_slices((dict(dataframe), labels))\n",
    "    if shuffle:\n",
    "        dataset = dataset.shuffle(buffer_size=len(dataframe))\n",
    "    dataset = dataset.batch(batch_size)\n",
    "    return dataset"
   ]
  },
  {
   "cell_type": "code",
   "execution_count": 25,
   "metadata": {
    "colab": {},
    "colab_type": "code",
    "id": "5iqPwNgOwG8V"
   },
   "outputs": [],
   "source": [
    "batch_size = 64"
   ]
  },
  {
   "cell_type": "code",
   "execution_count": 26,
   "metadata": {
    "colab": {},
    "colab_type": "code",
    "id": "Es4xslbXwG8X"
   },
   "outputs": [],
   "source": [
    "tf.keras.backend.set_floatx('float64')\n",
    "train_ds = dataframe_to_dataset(train_df, batch_size=batch_size)\n",
    "test_ds = dataframe_to_dataset(test_df, shuffle=False, batch_size=batch_size)"
   ]
  },
  {
   "cell_type": "code",
   "execution_count": 27,
   "metadata": {
    "colab": {
     "base_uri": "https://localhost:8080/",
     "height": 54
    },
    "colab_type": "code",
    "id": "TmMIoLJXwG8Z",
    "outputId": "67954569-0aaa-4527-8273-9162ebe4d8f9"
   },
   "outputs": [
    {
     "data": {
      "text/plain": [
       "<BatchDataset shapes: ({arrival_airport: (None,), departure_delay: (None,), departure_month: (None,), departure_weekday: (None,), distance: (None,), departure_airport: (None,), airline: (None,)}, (None,)), types: ({arrival_airport: tf.string, departure_delay: tf.float64, departure_month: tf.string, departure_weekday: tf.string, distance: tf.float64, departure_airport: tf.string, airline: tf.string}, tf.int32)>"
      ]
     },
     "execution_count": 27,
     "metadata": {},
     "output_type": "execute_result"
    }
   ],
   "source": [
    "train_ds"
   ]
  },
  {
   "cell_type": "markdown",
   "metadata": {
    "colab_type": "text",
    "id": "6sBOk2rswG8b"
   },
   "source": [
    "The dataset returns a dictionary of column names (from the dataframe) that map to column values from rows in the dataframe."
   ]
  },
  {
   "cell_type": "markdown",
   "metadata": {
    "colab_type": "text",
    "id": "RgWjeQHiwG8b"
   },
   "source": [
    "#### Build Features using tf.feature_column"
   ]
  },
  {
   "cell_type": "markdown",
   "metadata": {
    "colab_type": "text",
    "id": "aEOitdgPwG8k"
   },
   "source": [
    "#### Setting Bins for numeric and vocabularies for categorical variables"
   ]
  },
  {
   "cell_type": "code",
   "execution_count": 28,
   "metadata": {
    "colab": {},
    "colab_type": "code",
    "id": "eCsifVf1wG8k"
   },
   "outputs": [],
   "source": [
    "departure_delay_bins = [2, 3, 6, 9, 13, 19, 28, 44, 76]\n",
    "distance_bins = [600, 1200]"
   ]
  },
  {
   "cell_type": "markdown",
   "metadata": {
    "colab_type": "text",
    "id": "v1m53hLnwG8o"
   },
   "source": [
    "#### Build the input pipeline"
   ]
  },
  {
   "cell_type": "code",
   "execution_count": 29,
   "metadata": {
    "colab": {},
    "colab_type": "code",
    "id": "AqPxYmXzwG8p"
   },
   "outputs": [],
   "source": [
    "feature_columns = []\n",
    "\n",
    "# bucketized columns\n",
    "distance = tf.feature_column.numeric_column(\"distance\")\n",
    "distance_buckets = tf.feature_column.bucketized_column(distance, boundaries = distance_bins)\n",
    "feature_columns.append(distance_buckets)\n",
    "\n",
    "departure_delay = tf.feature_column.numeric_column(\"departure_delay\")\n",
    "departure_delay_buckets = tf.feature_column.bucketized_column(departure_delay, boundaries = departure_delay_bins)\n",
    "feature_columns.append(departure_delay_buckets)"
   ]
  },
  {
   "cell_type": "markdown",
   "metadata": {
    "colab_type": "text",
    "id": "x3LicU04wG8v"
   },
   "source": [
    "## Defining our model"
   ]
  },
  {
   "cell_type": "markdown",
   "metadata": {
    "colab_type": "text",
    "id": "iXdJtKsfwG8w"
   },
   "source": [
    "### Define the feature layer"
   ]
  },
  {
   "cell_type": "code",
   "execution_count": 30,
   "metadata": {
    "colab": {},
    "colab_type": "code",
    "id": "1HjvfPhPwG8x"
   },
   "outputs": [],
   "source": [
    "feature_layer = tf.keras.layers.DenseFeatures(feature_columns)"
   ]
  },
  {
   "cell_type": "markdown",
   "metadata": {
    "colab_type": "text",
    "id": "b83cMh2BwG8z"
   },
   "source": [
    "### Build the model"
   ]
  },
  {
   "cell_type": "markdown",
   "metadata": {
    "colab_type": "text",
    "id": "R83UpoNzwG80"
   },
   "source": [
    "#### Non-distributed model"
   ]
  },
  {
   "cell_type": "markdown",
   "metadata": {},
   "source": [
    "#### Parameters for TensorBoard"
   ]
  },
  {
   "cell_type": "code",
   "execution_count": 31,
   "metadata": {},
   "outputs": [],
   "source": [
    "import datetime, os\n",
    "log_dir = os.path.join(\"logs\", datetime.datetime.now().strftime(\"%Y%m%d-%H%M%S\"))"
   ]
  },
  {
   "cell_type": "code",
   "execution_count": 32,
   "metadata": {},
   "outputs": [
    {
     "data": {
      "text/plain": [
       "'logs/20190904-210346'"
      ]
     },
     "execution_count": 32,
     "metadata": {},
     "output_type": "execute_result"
    }
   ],
   "source": [
    "log_dir"
   ]
  },
  {
   "cell_type": "code",
   "execution_count": 33,
   "metadata": {
    "colab": {},
    "colab_type": "code",
    "id": "VNQ-UcWewG80"
   },
   "outputs": [],
   "source": [
    "model_normal = tf.keras.models.Sequential([\n",
    "    \n",
    "    feature_layer,\n",
    "    tf.keras.layers.Dense(1, activation='sigmoid', kernel_regularizer=tf.keras.regularizers.l2(0.0001))\n",
    "    \n",
    "    ])\n",
    "\n",
    "model_normal.compile(optimizer='adam',\n",
    "              loss='binary_crossentropy',\n",
    "              metrics=['accuracy']\n",
    "             )"
   ]
  },
  {
   "cell_type": "markdown",
   "metadata": {
    "colab_type": "text",
    "id": "vDLF7sPDwG8_"
   },
   "source": [
    "#### Normal Training"
   ]
  },
  {
   "cell_type": "code",
   "execution_count": 34,
   "metadata": {
    "colab": {
     "base_uri": "https://localhost:8080/",
     "height": 496
    },
    "colab_type": "code",
    "id": "ZPZkKuBAwG9A",
    "outputId": "6d259405-3527-4e4a-d2ef-c56c80fbc7d8"
   },
   "outputs": [
    {
     "name": "stdout",
     "output_type": "stream",
     "text": [
      "Epoch 1/10\n",
      "8634/8634 [==============================] - 136s 16ms/step - loss: 0.4068 - accuracy: 0.7807 - val_loss: 0.3544 - val_accuracy: 0.8556\n",
      "Epoch 2/10\n",
      "8634/8634 [==============================] - 131s 15ms/step - loss: 0.3529 - accuracy: 0.8567 - val_loss: 0.3541 - val_accuracy: 0.8556\n",
      "Epoch 3/10\n",
      "8634/8634 [==============================] - 135s 16ms/step - loss: 0.3528 - accuracy: 0.8567 - val_loss: 0.3540 - val_accuracy: 0.8556\n",
      "Epoch 4/10\n",
      "8634/8634 [==============================] - 142s 17ms/step - loss: 0.3528 - accuracy: 0.8567 - val_loss: 0.3540 - val_accuracy: 0.8556\n",
      "Epoch 5/10\n",
      "8634/8634 [==============================] - 142s 16ms/step - loss: 0.3528 - accuracy: 0.8567 - val_loss: 0.3540 - val_accuracy: 0.8556\n",
      "Epoch 6/10\n",
      "8634/8634 [==============================] - 131s 15ms/step - loss: 0.3528 - accuracy: 0.8567 - val_loss: 0.3540 - val_accuracy: 0.8556\n",
      "Epoch 7/10\n",
      "8634/8634 [==============================] - 131s 15ms/step - loss: 0.3528 - accuracy: 0.8567 - val_loss: 0.3540 - val_accuracy: 0.8556\n",
      "Epoch 8/10\n",
      "8634/8634 [==============================] - 130s 15ms/step - loss: 0.3528 - accuracy: 0.8567 - val_loss: 0.3540 - val_accuracy: 0.8556\n",
      "Epoch 9/10\n",
      "8634/8634 [==============================] - 133s 15ms/step - loss: 0.3528 - accuracy: 0.8567 - val_loss: 0.3540 - val_accuracy: 0.8556\n",
      "Epoch 10/10\n",
      "8634/8634 [==============================] - 134s 16ms/step - loss: 0.3528 - accuracy: 0.8567 - val_loss: 0.3540 - val_accuracy: 0.8556\n",
      "Normal training took: 1346.3080098628998\n"
     ]
    }
   ],
   "source": [
    "start_time = time.time()\n",
    "history = model_normal.fit(train_ds,\n",
    "                    validation_data = test_ds,\n",
    "                    epochs = 10,\n",
    "                    callbacks = [tf.keras.callbacks.TensorBoard(log_dir, histogram_freq=1, update_freq='batch')])\n",
    "print(\"Normal training took: {}\".format(time.time() - start_time))\n",
    "\n"
   ]
  },
  {
   "cell_type": "code",
   "execution_count": null,
   "metadata": {},
   "outputs": [],
   "source": []
  },
  {
   "cell_type": "code",
   "execution_count": null,
   "metadata": {},
   "outputs": [],
   "source": []
  },
  {
   "cell_type": "code",
   "execution_count": null,
   "metadata": {},
   "outputs": [],
   "source": []
  },
  {
   "cell_type": "code",
   "execution_count": null,
   "metadata": {},
   "outputs": [],
   "source": []
  },
  {
   "cell_type": "code",
   "execution_count": null,
   "metadata": {},
   "outputs": [],
   "source": []
  },
  {
   "cell_type": "code",
   "execution_count": null,
   "metadata": {},
   "outputs": [],
   "source": []
  },
  {
   "cell_type": "code",
   "execution_count": null,
   "metadata": {},
   "outputs": [],
   "source": []
  },
  {
   "cell_type": "code",
   "execution_count": null,
   "metadata": {},
   "outputs": [],
   "source": []
  }
 ],
 "metadata": {
  "accelerator": "GPU",
  "colab": {
   "collapsed_sections": [],
   "name": "Lab Advanced ML Bigquery.ipynb",
   "provenance": [],
   "version": "0.3.2"
  },
  "kernelspec": {
   "display_name": "Python 3",
   "language": "python",
   "name": "python3"
  },
  "language_info": {
   "codemirror_mode": {
    "name": "ipython",
    "version": 3
   },
   "file_extension": ".py",
   "mimetype": "text/x-python",
   "name": "python",
   "nbconvert_exporter": "python",
   "pygments_lexer": "ipython3",
   "version": "3.5.3"
  }
 },
 "nbformat": 4,
 "nbformat_minor": 2
}
