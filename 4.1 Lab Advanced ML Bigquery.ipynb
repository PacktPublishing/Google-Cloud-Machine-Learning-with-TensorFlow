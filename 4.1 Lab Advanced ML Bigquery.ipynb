{
 "cells": [
  {
   "cell_type": "markdown",
   "metadata": {
    "colab_type": "text",
    "id": "Q9kfoK59wG7x"
   },
   "source": [
    "# Advanced Model Training Workflow with TensorFlow 2.0"
   ]
  },
  {
   "cell_type": "markdown",
   "metadata": {
    "colab_type": "text",
    "id": "aGeI_KgNwG7y"
   },
   "source": [
    "## Project Setup"
   ]
  },
  {
   "cell_type": "code",
   "execution_count": 1,
   "metadata": {
    "colab": {
     "base_uri": "https://localhost:8080/",
     "height": 394
    },
    "colab_type": "code",
    "id": "HhgSO6DUOkKr",
    "outputId": "2c0e3db2-3578-4a5a-a54f-eed26188ecb3"
   },
   "outputs": [
    {
     "name": "stdout",
     "output_type": "stream",
     "text": [
      "Requirement already satisfied: tensorflow-gpu==2.0.0-rc0 in /usr/local/lib/python3.6/dist-packages (2.0.0rc0)\n",
      "Requirement already satisfied: grpcio>=1.8.6 in /usr/local/lib/python3.6/dist-packages (from tensorflow-gpu==2.0.0-rc0) (1.15.0)\n",
      "Requirement already satisfied: termcolor>=1.1.0 in /usr/local/lib/python3.6/dist-packages (from tensorflow-gpu==2.0.0-rc0) (1.1.0)\n",
      "Requirement already satisfied: wrapt>=1.11.1 in /usr/local/lib/python3.6/dist-packages (from tensorflow-gpu==2.0.0-rc0) (1.11.2)\n",
      "Requirement already satisfied: protobuf>=3.6.1 in /usr/local/lib/python3.6/dist-packages (from tensorflow-gpu==2.0.0-rc0) (3.7.1)\n",
      "Requirement already satisfied: wheel>=0.26 in /usr/local/lib/python3.6/dist-packages (from tensorflow-gpu==2.0.0-rc0) (0.33.6)\n",
      "Requirement already satisfied: keras-applications>=1.0.8 in /usr/local/lib/python3.6/dist-packages (from tensorflow-gpu==2.0.0-rc0) (1.0.8)\n",
      "Requirement already satisfied: numpy<2.0,>=1.16.0 in /usr/local/lib/python3.6/dist-packages (from tensorflow-gpu==2.0.0-rc0) (1.16.4)\n",
      "Requirement already satisfied: tf-estimator-nightly<1.14.0.dev2019080602,>=1.14.0.dev2019080601 in /usr/local/lib/python3.6/dist-packages (from tensorflow-gpu==2.0.0-rc0) (1.14.0.dev2019080601)\n",
      "Requirement already satisfied: opt-einsum>=2.3.2 in /usr/local/lib/python3.6/dist-packages (from tensorflow-gpu==2.0.0-rc0) (3.0.1)\n",
      "Requirement already satisfied: six>=1.10.0 in /usr/local/lib/python3.6/dist-packages (from tensorflow-gpu==2.0.0-rc0) (1.12.0)\n",
      "Requirement already satisfied: gast>=0.2.0 in /usr/local/lib/python3.6/dist-packages (from tensorflow-gpu==2.0.0-rc0) (0.2.2)\n",
      "Requirement already satisfied: google-pasta>=0.1.6 in /usr/local/lib/python3.6/dist-packages (from tensorflow-gpu==2.0.0-rc0) (0.1.7)\n",
      "Requirement already satisfied: astor>=0.6.0 in /usr/local/lib/python3.6/dist-packages (from tensorflow-gpu==2.0.0-rc0) (0.8.0)\n",
      "Requirement already satisfied: absl-py>=0.7.0 in /usr/local/lib/python3.6/dist-packages (from tensorflow-gpu==2.0.0-rc0) (0.7.1)\n",
      "Requirement already satisfied: keras-preprocessing>=1.0.5 in /usr/local/lib/python3.6/dist-packages (from tensorflow-gpu==2.0.0-rc0) (1.1.0)\n",
      "Requirement already satisfied: tb-nightly<1.15.0a20190807,>=1.15.0a20190806 in /usr/local/lib/python3.6/dist-packages (from tensorflow-gpu==2.0.0-rc0) (1.15.0a20190806)\n",
      "Requirement already satisfied: setuptools in /usr/local/lib/python3.6/dist-packages (from protobuf>=3.6.1->tensorflow-gpu==2.0.0-rc0) (41.2.0)\n",
      "Requirement already satisfied: h5py in /usr/local/lib/python3.6/dist-packages (from keras-applications>=1.0.8->tensorflow-gpu==2.0.0-rc0) (2.8.0)\n",
      "Requirement already satisfied: markdown>=2.6.8 in /usr/local/lib/python3.6/dist-packages (from tb-nightly<1.15.0a20190807,>=1.15.0a20190806->tensorflow-gpu==2.0.0-rc0) (3.1.1)\n",
      "Requirement already satisfied: werkzeug>=0.11.15 in /usr/local/lib/python3.6/dist-packages (from tb-nightly<1.15.0a20190807,>=1.15.0a20190806->tensorflow-gpu==2.0.0-rc0) (0.15.5)\n"
     ]
    }
   ],
   "source": [
    "pip install tensorflow-gpu==2.0.0-rc0"
   ]
  },
  {
   "cell_type": "code",
   "execution_count": null,
   "metadata": {
    "colab": {},
    "colab_type": "code",
    "id": "SsHiWsKvwG7z"
   },
   "outputs": [],
   "source": [
    "import numpy as np\n",
    "import pandas as pd\n",
    "import tensorflow as tf\n",
    "import time"
   ]
  },
  {
   "cell_type": "code",
   "execution_count": 3,
   "metadata": {
    "colab": {
     "base_uri": "https://localhost:8080/",
     "height": 34
    },
    "colab_type": "code",
    "id": "OP__Zs1vwG72",
    "outputId": "e0e4be65-f748-4f2e-bca3-016bd43056b2"
   },
   "outputs": [
    {
     "data": {
      "text/plain": [
       "'2.0.0-rc0'"
      ]
     },
     "execution_count": 3,
     "metadata": {
      "tags": []
     },
     "output_type": "execute_result"
    }
   ],
   "source": [
    "tf.__version__"
   ]
  },
  {
   "cell_type": "code",
   "execution_count": 4,
   "metadata": {
    "colab": {
     "base_uri": "https://localhost:8080/",
     "height": 34
    },
    "colab_type": "code",
    "id": "nJNJvNVixUCS",
    "outputId": "dace0951-24f2-475c-95d9-813bc625b821"
   },
   "outputs": [
    {
     "name": "stdout",
     "output_type": "stream",
     "text": [
      "Authenticated\n"
     ]
    }
   ],
   "source": [
    "from google.colab import auth\n",
    "auth.authenticate_user()\n",
    "print('Authenticated')"
   ]
  },
  {
   "cell_type": "markdown",
   "metadata": {
    "colab_type": "text",
    "id": "5CPt4KhDwG75"
   },
   "source": [
    "## Staging Data"
   ]
  },
  {
   "cell_type": "code",
   "execution_count": 5,
   "metadata": {
    "colab": {
     "base_uri": "https://localhost:8080/",
     "height": 122
    },
    "colab_type": "code",
    "id": "f98NSwIGwG76",
    "outputId": "d9ea804f-b8c2-4304-f7ad-97a65a0c0eb3"
   },
   "outputs": [
    {
     "name": "stderr",
     "output_type": "stream",
     "text": [
      "WARNING: Logging before flag parsing goes to stderr.\n",
      "W0904 19:11:24.507439 140223078004608 _default.py:280] No project ID could be determined. Consider running `gcloud config set project` or setting the GOOGLE_CLOUD_PROJECT environment variable\n"
     ]
    },
    {
     "name": "stdout",
     "output_type": "stream",
     "text": [
      "Executing query with job ID: d58a6747-a3d7-465d-8794-4cbf46e8afa8\n",
      "Query executing: 1.33s\n",
      "Query complete after 2.15s\n"
     ]
    }
   ],
   "source": [
    "%%bigquery flights_df --project tensorflow-ml-course --verbose\n",
    "\n",
    "SELECT \n",
    "\n",
    "  -- Departure delay\n",
    "  departure_delay,\n",
    "    \n",
    "  -- Distance\n",
    "  distance,\n",
    "\n",
    "  -- Airlines\n",
    "  airline,\n",
    "    \n",
    "  -- Airports \n",
    "  departure_airport,\n",
    "  arrival_airport, \n",
    "\n",
    "  -- Date information\n",
    "  CAST(EXTRACT(DAYOFWEEK FROM departure_date) AS STRING) as departure_weekday,\n",
    "  CAST(EXTRACT(MONTH FROM departure_date) AS STRING) as departure_month,\n",
    "\n",
    "  -- Target column\n",
    "  CASE WHEN (arrival_delay >= 15) THEN 1 ELSE 0 END as delayed\n",
    "  \n",
    "  FROM ( \n",
    "    \n",
    "    -- Inner Query\n",
    "    SELECT\n",
    "      \n",
    "      departure_delay,\n",
    "      ROUND(ST_DISTANCE(ST_GEOGPOINT(departure_lon, departure_lat), ST_GEOGPOINT(arrival_lon, arrival_lat))/1000) as distance,\n",
    "      airline,\n",
    "      arrival_airport,\n",
    "      departure_airport,\n",
    "      PARSE_DATE(\"%Y-%m-%d\", date) AS departure_date,\n",
    "      \n",
    "      arrival_delay\n",
    "      \n",
    "      \n",
    "    FROM\n",
    "      `bigquery-samples.airline_ontime_data.flights`\n",
    "    WHERE date >= '2009-01-01' \n",
    "    AND date <= '2009-12-31'\n",
    "    AND departure_delay > 0\n",
    "    \n",
    "  )\n"
   ]
  },
  {
   "cell_type": "code",
   "execution_count": 6,
   "metadata": {
    "colab": {
     "base_uri": "https://localhost:8080/",
     "height": 68
    },
    "colab_type": "code",
    "id": "WMA5Qc7IwG79",
    "outputId": "8335c04e-5261-4b98-e966-40202db02aac"
   },
   "outputs": [
    {
     "name": "stdout",
     "output_type": "stream",
     "text": [
      "Executing query with job ID: 8956d804-b455-478b-a8bc-739f20b3a433\n",
      "Query executing: 1.20s\n",
      "Query complete after 1.78s\n"
     ]
    }
   ],
   "source": [
    "%%bigquery high_traffic_airports --project tensorflow-ml-course --verbose\n",
    "\n",
    "SELECT * FROM\n",
    " \n",
    " (SELECT departure_airport as airport_code,\n",
    "  COUNT(*) as flights\n",
    "  \n",
    "  FROM\n",
    "    `bigquery-samples.airline_ontime_data.flights`    \n",
    "  \n",
    "  WHERE date >= '2009-01-01' \n",
    "    AND date <= '2009-12-31'\n",
    "    \n",
    "  GROUP BY departure_airport\n",
    "  ORDER BY airport_code)\n",
    "\n",
    "WHERE flights > 10000"
   ]
  },
  {
   "cell_type": "code",
   "execution_count": 7,
   "metadata": {
    "colab": {
     "base_uri": "https://localhost:8080/",
     "height": 68
    },
    "colab_type": "code",
    "id": "3S6GoVJvwG7_",
    "outputId": "1bed0c9b-42a4-4076-b305-9cc339b4cd36"
   },
   "outputs": [
    {
     "name": "stdout",
     "output_type": "stream",
     "text": [
      "Executing query with job ID: fb7f62fb-e795-42af-b1c2-f9da8a36bcf9\n",
      "Query executing: 0.51s\n",
      "Query complete after 1.07s\n"
     ]
    }
   ],
   "source": [
    "%%bigquery airline_codes --project tensorflow-ml-course --verbose\n",
    "\n",
    "SELECT DISTINCT(airline)\n",
    "  \n",
    "FROM\n",
    "    `bigquery-samples.airline_ontime_data.flights`\n",
    "    \n",
    "WHERE date >= '2009-01-01' \n",
    "    AND date <= '2009-12-31'\n",
    "    \n",
    "ORDER BY airline\n"
   ]
  },
  {
   "cell_type": "code",
   "execution_count": 8,
   "metadata": {
    "colab": {
     "base_uri": "https://localhost:8080/",
     "height": 34
    },
    "colab_type": "code",
    "id": "Keq0idmGwG8C",
    "outputId": "83c837ec-2e02-41eb-8d93-60cb6a0eee02"
   },
   "outputs": [
    {
     "data": {
      "text/plain": [
       "(2302332, 8)"
      ]
     },
     "execution_count": 8,
     "metadata": {
      "tags": []
     },
     "output_type": "execute_result"
    }
   ],
   "source": [
    "flights_df.shape"
   ]
  },
  {
   "cell_type": "code",
   "execution_count": 9,
   "metadata": {
    "colab": {
     "base_uri": "https://localhost:8080/",
     "height": 204
    },
    "colab_type": "code",
    "id": "si6-Zd-NwG8E",
    "outputId": "3daf99d3-49f2-4217-a02c-b1ca0dbd7368"
   },
   "outputs": [
    {
     "data": {
      "text/html": [
       "<div>\n",
       "<style scoped>\n",
       "    .dataframe tbody tr th:only-of-type {\n",
       "        vertical-align: middle;\n",
       "    }\n",
       "\n",
       "    .dataframe tbody tr th {\n",
       "        vertical-align: top;\n",
       "    }\n",
       "\n",
       "    .dataframe thead th {\n",
       "        text-align: right;\n",
       "    }\n",
       "</style>\n",
       "<table border=\"1\" class=\"dataframe\">\n",
       "  <thead>\n",
       "    <tr style=\"text-align: right;\">\n",
       "      <th></th>\n",
       "      <th>departure_delay</th>\n",
       "      <th>distance</th>\n",
       "      <th>airline</th>\n",
       "      <th>departure_airport</th>\n",
       "      <th>arrival_airport</th>\n",
       "      <th>departure_weekday</th>\n",
       "      <th>departure_month</th>\n",
       "      <th>delayed</th>\n",
       "    </tr>\n",
       "  </thead>\n",
       "  <tbody>\n",
       "    <tr>\n",
       "      <th>2178920</th>\n",
       "      <td>3.0</td>\n",
       "      <td>247.0</td>\n",
       "      <td>OO</td>\n",
       "      <td>ATL</td>\n",
       "      <td>GSP</td>\n",
       "      <td>5</td>\n",
       "      <td>12</td>\n",
       "      <td>0</td>\n",
       "    </tr>\n",
       "    <tr>\n",
       "      <th>869721</th>\n",
       "      <td>85.0</td>\n",
       "      <td>335.0</td>\n",
       "      <td>EV</td>\n",
       "      <td>ATL</td>\n",
       "      <td>VLD</td>\n",
       "      <td>3</td>\n",
       "      <td>9</td>\n",
       "      <td>1</td>\n",
       "    </tr>\n",
       "    <tr>\n",
       "      <th>2084917</th>\n",
       "      <td>4.0</td>\n",
       "      <td>462.0</td>\n",
       "      <td>YV</td>\n",
       "      <td>IAD</td>\n",
       "      <td>CLE</td>\n",
       "      <td>5</td>\n",
       "      <td>5</td>\n",
       "      <td>0</td>\n",
       "    </tr>\n",
       "    <tr>\n",
       "      <th>864734</th>\n",
       "      <td>1.0</td>\n",
       "      <td>679.0</td>\n",
       "      <td>WN</td>\n",
       "      <td>OMA</td>\n",
       "      <td>MDW</td>\n",
       "      <td>2</td>\n",
       "      <td>10</td>\n",
       "      <td>0</td>\n",
       "    </tr>\n",
       "    <tr>\n",
       "      <th>915963</th>\n",
       "      <td>3.0</td>\n",
       "      <td>2432.0</td>\n",
       "      <td>AA</td>\n",
       "      <td>ORD</td>\n",
       "      <td>LAS</td>\n",
       "      <td>4</td>\n",
       "      <td>10</td>\n",
       "      <td>0</td>\n",
       "    </tr>\n",
       "  </tbody>\n",
       "</table>\n",
       "</div>"
      ],
      "text/plain": [
       "         departure_delay  distance  ... departure_month delayed\n",
       "2178920              3.0     247.0  ...              12       0\n",
       "869721              85.0     335.0  ...               9       1\n",
       "2084917              4.0     462.0  ...               5       0\n",
       "864734               1.0     679.0  ...              10       0\n",
       "915963               3.0    2432.0  ...              10       0\n",
       "\n",
       "[5 rows x 8 columns]"
      ]
     },
     "execution_count": 9,
     "metadata": {
      "tags": []
     },
     "output_type": "execute_result"
    }
   ],
   "source": [
    "flights_df.sample(n = 5)"
   ]
  },
  {
   "cell_type": "code",
   "execution_count": 10,
   "metadata": {
    "colab": {
     "base_uri": "https://localhost:8080/",
     "height": 170
    },
    "colab_type": "code",
    "id": "rsJcUdSWwG8I",
    "outputId": "ffbfd437-4627-4742-d928-50260ff5c43f"
   },
   "outputs": [
    {
     "data": {
      "text/plain": [
       "departure_delay      float64\n",
       "distance             float64\n",
       "airline               object\n",
       "departure_airport     object\n",
       "arrival_airport       object\n",
       "departure_weekday     object\n",
       "departure_month       object\n",
       "delayed                int64\n",
       "dtype: object"
      ]
     },
     "execution_count": 10,
     "metadata": {
      "tags": []
     },
     "output_type": "execute_result"
    }
   ],
   "source": [
    "flights_df.dtypes"
   ]
  },
  {
   "cell_type": "markdown",
   "metadata": {
    "colab_type": "text",
    "id": "ruAILk2-wG8K"
   },
   "source": [
    "## Data Preprocessing"
   ]
  },
  {
   "cell_type": "markdown",
   "metadata": {
    "colab_type": "text",
    "id": "oFHdRqNewG8K"
   },
   "source": [
    "### Training-Testing-Split"
   ]
  },
  {
   "cell_type": "code",
   "execution_count": null,
   "metadata": {
    "colab": {},
    "colab_type": "code",
    "id": "O3hldC5ewG8L"
   },
   "outputs": [],
   "source": [
    "train_df = flights_df.sample(frac=0.8,random_state=123)\n",
    "test_df = flights_df.drop(train_df.index)"
   ]
  },
  {
   "cell_type": "code",
   "execution_count": 12,
   "metadata": {
    "colab": {
     "base_uri": "https://localhost:8080/",
     "height": 51
    },
    "colab_type": "code",
    "id": "b_N-4mOiwG8N",
    "outputId": "5d80b5c4-0163-48dc-bc2d-86a0b3bceaa9"
   },
   "outputs": [
    {
     "name": "stdout",
     "output_type": "stream",
     "text": [
      "1841866 train examples\n",
      "460466 test examples\n"
     ]
    }
   ],
   "source": [
    "print(len(train_df), 'train examples')\n",
    "print(len(test_df), 'test examples')"
   ]
  },
  {
   "cell_type": "markdown",
   "metadata": {
    "colab_type": "text",
    "id": "FA4XNDy_wG8P"
   },
   "source": [
    "#### Check Label distribution"
   ]
  },
  {
   "cell_type": "code",
   "execution_count": 13,
   "metadata": {
    "colab": {
     "base_uri": "https://localhost:8080/",
     "height": 68
    },
    "colab_type": "code",
    "id": "tpm5w9s4wG8P",
    "outputId": "08d7222d-67bf-4c99-ea64-da046016516e"
   },
   "outputs": [
    {
     "name": "stdout",
     "output_type": "stream",
     "text": [
      "45.1 % delay in total dataset\n",
      "45.1 % delay in total dataset\n",
      "45.0 % delay in total dataset\n"
     ]
    }
   ],
   "source": [
    "print(round(flights_df.delayed.mean(),3)*100, '% delay in total dataset')\n",
    "print(round(train_df.delayed.mean(),3)*100, '% delay in total dataset')\n",
    "print(round(test_df.delayed.mean(),3)*100, '% delay in total dataset')"
   ]
  },
  {
   "cell_type": "markdown",
   "metadata": {
    "colab_type": "text",
    "id": "LaqWf7ijwG8R"
   },
   "source": [
    "### Create input pipeline using tf.data"
   ]
  },
  {
   "cell_type": "markdown",
   "metadata": {
    "colab_type": "text",
    "id": "vjhKCMw2wG8S"
   },
   "source": [
    "#### Build a tf.data.Dataset "
   ]
  },
  {
   "cell_type": "markdown",
   "metadata": {
    "colab_type": "text",
    "id": "_qYiD_a3wG8T"
   },
   "source": [
    "Create a Batch Dataset from a Pandas Dataframe"
   ]
  },
  {
   "cell_type": "code",
   "execution_count": null,
   "metadata": {
    "colab": {},
    "colab_type": "code",
    "id": "TSTt7R3bwG8T"
   },
   "outputs": [],
   "source": [
    "def dataframe_to_dataset(dataframe, labels = 'delayed', shuffle=True, batch_size=32):\n",
    "    # Creates a tf.data dataset from a Pandas Dataframe\n",
    "    dataframe = dataframe.copy()\n",
    "    labels = dataframe.pop(labels)\n",
    "    dataset = tf.data.Dataset.from_tensor_slices((dict(dataframe), labels))\n",
    "    if shuffle:\n",
    "        dataset = dataset.shuffle(buffer_size=len(dataframe))\n",
    "    dataset = dataset.batch(batch_size)\n",
    "    return dataset"
   ]
  },
  {
   "cell_type": "code",
   "execution_count": null,
   "metadata": {
    "colab": {},
    "colab_type": "code",
    "id": "5iqPwNgOwG8V"
   },
   "outputs": [],
   "source": [
    "batch_size = 256"
   ]
  },
  {
   "cell_type": "code",
   "execution_count": null,
   "metadata": {
    "colab": {},
    "colab_type": "code",
    "id": "Es4xslbXwG8X"
   },
   "outputs": [],
   "source": [
    "tf.keras.backend.set_floatx('float64')\n",
    "train_ds = dataframe_to_dataset(train_df, batch_size=batch_size)\n",
    "test_ds = dataframe_to_dataset(test_df, shuffle=False, batch_size=batch_size)"
   ]
  },
  {
   "cell_type": "code",
   "execution_count": 17,
   "metadata": {
    "colab": {
     "base_uri": "https://localhost:8080/",
     "height": 54
    },
    "colab_type": "code",
    "id": "TmMIoLJXwG8Z",
    "outputId": "994b7fe6-12d1-4d1f-d623-4adb114dd72a"
   },
   "outputs": [
    {
     "data": {
      "text/plain": [
       "<BatchDataset shapes: ({departure_delay: (None,), distance: (None,), airline: (None,), departure_airport: (None,), arrival_airport: (None,), departure_weekday: (None,), departure_month: (None,)}, (None,)), types: ({departure_delay: tf.float64, distance: tf.float64, airline: tf.string, departure_airport: tf.string, arrival_airport: tf.string, departure_weekday: tf.string, departure_month: tf.string}, tf.int32)>"
      ]
     },
     "execution_count": 17,
     "metadata": {
      "tags": []
     },
     "output_type": "execute_result"
    }
   ],
   "source": [
    "train_ds"
   ]
  },
  {
   "cell_type": "markdown",
   "metadata": {
    "colab_type": "text",
    "id": "6sBOk2rswG8b"
   },
   "source": [
    "The dataset returns a dictionary of column names (from the dataframe) that map to column values from rows in the dataframe."
   ]
  },
  {
   "cell_type": "markdown",
   "metadata": {
    "colab_type": "text",
    "id": "RgWjeQHiwG8b"
   },
   "source": [
    "#### Build Features using tf.feature_column"
   ]
  },
  {
   "cell_type": "markdown",
   "metadata": {
    "colab_type": "text",
    "id": "aOeOxxM6wG8c"
   },
   "source": [
    "Demo for numeric variables:"
   ]
  },
  {
   "cell_type": "code",
   "execution_count": 18,
   "metadata": {
    "colab": {
     "base_uri": "https://localhost:8080/",
     "height": 102
    },
    "colab_type": "code",
    "id": "Fud7MGaiwG8c",
    "outputId": "541480be-ba23-4231-be1a-4643821c0f57"
   },
   "outputs": [
    {
     "data": {
      "text/plain": [
       "array([[ 3.],\n",
       "       [11.],\n",
       "       [ 5.],\n",
       "       [10.],\n",
       "       [15.]], dtype=float32)"
      ]
     },
     "execution_count": 18,
     "metadata": {
      "tags": []
     },
     "output_type": "execute_result"
    }
   ],
   "source": [
    "example_batch = next(iter(train_ds))[0]\n",
    "\n",
    "departure_delay = tf.feature_column.numeric_column(\"departure_delay\")\n",
    "\n",
    "feature_layer_demo = tf.keras.layers.DenseFeatures(departure_delay)\n",
    "feature_layer_demo(example_batch).numpy()[:5]"
   ]
  },
  {
   "cell_type": "markdown",
   "metadata": {
    "colab_type": "text",
    "id": "yIU5GnWkwG8g"
   },
   "source": [
    "Demo for bucketized variables:"
   ]
  },
  {
   "cell_type": "code",
   "execution_count": 19,
   "metadata": {
    "colab": {
     "base_uri": "https://localhost:8080/",
     "height": 102
    },
    "colab_type": "code",
    "id": "TsmkrQhqwG8h",
    "outputId": "a34f8bd6-3982-499e-85b3-e6552f084c80"
   },
   "outputs": [
    {
     "data": {
      "text/plain": [
       "array([[0., 0., 1., 0., 0., 0., 0., 0., 0., 0.],\n",
       "       [0., 0., 0., 0., 1., 0., 0., 0., 0., 0.],\n",
       "       [0., 0., 1., 0., 0., 0., 0., 0., 0., 0.],\n",
       "       [0., 0., 0., 0., 1., 0., 0., 0., 0., 0.],\n",
       "       [0., 0., 0., 0., 0., 1., 0., 0., 0., 0.]], dtype=float32)"
      ]
     },
     "execution_count": 19,
     "metadata": {
      "tags": []
     },
     "output_type": "execute_result"
    }
   ],
   "source": [
    "departure_delay_bucketized = tf.feature_column.bucketized_column(departure_delay, boundaries = [2, 3, 6, 9, 13, 19, 28, 44, 76])\n",
    "\n",
    "feature_layer_demo = tf.keras.layers.DenseFeatures(departure_delay_bucketized)\n",
    "feature_layer_demo(example_batch).numpy()[:5]"
   ]
  },
  {
   "cell_type": "markdown",
   "metadata": {
    "colab_type": "text",
    "id": "aEOitdgPwG8k"
   },
   "source": [
    "#### Setting Bins for numeric and vocabularies for categorical variables"
   ]
  },
  {
   "cell_type": "code",
   "execution_count": null,
   "metadata": {
    "colab": {},
    "colab_type": "code",
    "id": "eCsifVf1wG8k"
   },
   "outputs": [],
   "source": [
    "departure_delay_bins = [2, 3, 6, 9, 13, 19, 28, 44, 76]\n",
    "distance_bins = [600, 1200]\n",
    "airports_voc = high_traffic_airports['airport_code']\n",
    "airlines_voc = airline_codes['airline']\n",
    "weekdays_voc = ['1', '2', '3', '4', '5', '6', '7']\n",
    "months_voc = ['1', '2', '3', '4', '5', '6', '7', '8', '9', '10', '11', '12']"
   ]
  },
  {
   "cell_type": "markdown",
   "metadata": {
    "colab_type": "text",
    "id": "v1m53hLnwG8o"
   },
   "source": [
    "#### Build the input pipeline"
   ]
  },
  {
   "cell_type": "code",
   "execution_count": null,
   "metadata": {
    "colab": {},
    "colab_type": "code",
    "id": "AqPxYmXzwG8p"
   },
   "outputs": [],
   "source": [
    "feature_columns = []\n",
    "\n",
    "# bucketized columns\n",
    "distance = tf.feature_column.numeric_column(\"distance\")\n",
    "distance_buckets = tf.feature_column.bucketized_column(distance, boundaries = distance_bins)\n",
    "feature_columns.append(distance_buckets)\n",
    "\n",
    "departure_delay = tf.feature_column.numeric_column(\"departure_delay\")\n",
    "departure_delay_buckets = tf.feature_column.bucketized_column(departure_delay, boundaries = departure_delay_bins)\n",
    "feature_columns.append(departure_delay_buckets) \n",
    "\n",
    "# categorical columns\n",
    "arrival_airports = tf.feature_column.categorical_column_with_vocabulary_list('arrival_airport', airports_voc)\n",
    "arrival_airports_dummy = tf.feature_column.indicator_column(arrival_airports)\n",
    "feature_columns.append(arrival_airports_dummy)\n",
    "\n",
    "departure_airports = tf.feature_column.categorical_column_with_vocabulary_list('departure_airport', airports_voc)\n",
    "departure_airports_dummy = tf.feature_column.indicator_column(departure_airports)\n",
    "feature_columns.append(departure_airports_dummy)\n",
    "\n",
    "airlines = tf.feature_column.categorical_column_with_vocabulary_list('airline', airlines_voc)\n",
    "airlines_dummy = tf.feature_column.indicator_column(airlines)\n",
    "feature_columns.append(airlines_dummy)\n",
    "\n",
    "weekdays = tf.feature_column.categorical_column_with_vocabulary_list('departure_weekday', weekdays_voc)\n",
    "weekdays_dummy = tf.feature_column.indicator_column(weekdays)\n",
    "feature_columns.append(weekdays_dummy)\n",
    "\n",
    "months = tf.feature_column.categorical_column_with_vocabulary_list('departure_month', months_voc)\n",
    "months_dummy = tf.feature_column.indicator_column(months)\n",
    "feature_columns.append(months_dummy)"
   ]
  },
  {
   "cell_type": "code",
   "execution_count": null,
   "metadata": {
    "colab": {
     "base_uri": "https://localhost:8080/",
     "height": 156
    },
    "colab_type": "code",
    "id": "CeHPjfZ-wG8r",
    "outputId": "b978f246-0250-4f36-e167-c8a5c6c49af4"
   },
   "outputs": [],
   "source": [
    "feature_layer_demo = tf.keras.layers.DenseFeatures(feature_columns)\n",
    "feature_layer_demo(example_batch).shape"
   ]
  },
  {
   "cell_type": "code",
   "execution_count": 23,
   "metadata": {
    "colab": {
     "base_uri": "https://localhost:8080/",
     "height": 289
    },
    "colab_type": "code",
    "id": "Rw0oISoGwG8u",
    "outputId": "87401b96-85d1-436a-c81d-c38ff9878a43"
   },
   "outputs": [
    {
     "data": {
      "text/plain": [
       "array([[0., 0., 0., 0., 0., 0., 0., 0., 0., 0., 0., 0., 0., 0., 0., 1.,\n",
       "        0., 0., 0., 0., 0., 0., 0., 0., 0., 0., 0., 0., 0., 0., 0., 0.,\n",
       "        0., 0., 0., 0., 0., 0., 0., 0., 0., 0., 0., 0., 0., 0., 0., 0.,\n",
       "        0., 0., 0., 0., 0., 0., 0., 0., 0., 0., 0., 0., 0., 0., 0., 0.,\n",
       "        0., 1., 0., 0., 0., 0., 0., 0., 0., 0., 0., 0., 0., 0., 0., 0.,\n",
       "        0., 0., 0., 0., 0., 0., 0., 0., 0., 0., 0., 0., 0., 0., 0., 0.,\n",
       "        0., 0., 0., 0., 0., 0., 0., 0., 0., 0., 0., 0., 0., 0., 0., 0.,\n",
       "        0., 0., 0., 0., 0., 0., 0., 0., 0., 0., 0., 0., 0., 0., 0., 0.,\n",
       "        0., 0., 0., 1., 0., 0., 0., 0., 0., 0., 0., 0., 0., 0., 0., 0.,\n",
       "        0., 0., 0., 0., 0., 0., 0., 0., 0., 0., 0., 0., 0., 0., 0., 0.,\n",
       "        0., 0., 0., 0., 0., 0., 0., 0., 0., 0., 0., 0., 0., 0., 0., 0.,\n",
       "        0., 0., 0., 0., 0., 0., 0., 0., 0., 0., 0., 0., 0., 0., 0., 0.,\n",
       "        0., 0., 0., 0., 0., 0., 0., 0., 0., 0., 0., 0., 0., 0., 0., 0.,\n",
       "        0., 0., 0., 0., 0., 0., 0., 1., 0., 0., 0., 0., 0., 0., 0., 0.,\n",
       "        0., 0., 1., 0., 0., 0., 0., 0., 0., 0., 0., 1., 0., 0., 0., 0.,\n",
       "        0., 0., 0., 1., 0.]], dtype=float32)"
      ]
     },
     "execution_count": 23,
     "metadata": {
      "tags": []
     },
     "output_type": "execute_result"
    }
   ],
   "source": [
    "feature_layer_demo(example_batch).numpy()[:1]"
   ]
  },
  {
   "cell_type": "markdown",
   "metadata": {
    "colab_type": "text",
    "id": "x3LicU04wG8v"
   },
   "source": [
    "## Defining our model"
   ]
  },
  {
   "cell_type": "markdown",
   "metadata": {
    "colab_type": "text",
    "id": "iXdJtKsfwG8w"
   },
   "source": [
    "### Define the feature layer"
   ]
  },
  {
   "cell_type": "code",
   "execution_count": null,
   "metadata": {
    "colab": {},
    "colab_type": "code",
    "id": "1HjvfPhPwG8x"
   },
   "outputs": [],
   "source": [
    "feature_layer = tf.keras.layers.DenseFeatures(feature_columns)"
   ]
  },
  {
   "cell_type": "markdown",
   "metadata": {
    "colab_type": "text",
    "id": "b83cMh2BwG8z"
   },
   "source": [
    "### Build the model"
   ]
  },
  {
   "cell_type": "markdown",
   "metadata": {
    "colab_type": "text",
    "id": "R83UpoNzwG80"
   },
   "source": [
    "#### Non-distributed model"
   ]
  },
  {
   "cell_type": "code",
   "execution_count": null,
   "metadata": {
    "colab": {},
    "colab_type": "code",
    "id": "VNQ-UcWewG80"
   },
   "outputs": [],
   "source": [
    "model_normal = tf.keras.models.Sequential([\n",
    "    \n",
    "    feature_layer,\n",
    "    tf.keras.layers.Dense(1, activation='sigmoid', kernel_regularizer=tf.keras.regularizers.l2(0.0001))\n",
    "    \n",
    "    ])\n",
    "\n",
    "model_normal.compile(optimizer='adam',\n",
    "              loss='binary_crossentropy',\n",
    "              metrics=['accuracy']\n",
    "             )"
   ]
  },
  {
   "cell_type": "markdown",
   "metadata": {
    "colab_type": "text",
    "id": "_IFai19RwG82"
   },
   "source": [
    "## Defining the Distribution Strategy"
   ]
  },
  {
   "cell_type": "markdown",
   "metadata": {
    "colab_type": "text",
    "id": "gmehT-7SdzBf"
   },
   "source": [
    "### Mirrored Strategy"
   ]
  },
  {
   "cell_type": "markdown",
   "metadata": {
    "colab_type": "text",
    "id": "NXry7GXrdzBg"
   },
   "source": [
    "![](Mirrored_Strategy.jpg)"
   ]
  },
  {
   "cell_type": "markdown",
   "metadata": {
    "colab_type": "text",
    "id": "CKmhWGnRdzBg"
   },
   "source": [
    "### Multi-Workers Mirrored Strategy"
   ]
  },
  {
   "cell_type": "markdown",
   "metadata": {
    "colab_type": "text",
    "id": "0W02nrTLdzBh"
   },
   "source": [
    "![](Multi_workers_Mirrored_Strategy.jpg)"
   ]
  },
  {
   "cell_type": "markdown",
   "metadata": {
    "colab_type": "text",
    "id": "vd_JX6K5dzBh"
   },
   "source": [
    "### Creating the Mirrored Strategy instance"
   ]
  },
  {
   "cell_type": "code",
   "execution_count": null,
   "metadata": {
    "colab": {},
    "colab_type": "code",
    "id": "OasxziB3wG85"
   },
   "outputs": [],
   "source": [
    "distribute = tf.distribute.MirroredStrategy()"
   ]
  },
  {
   "cell_type": "markdown",
   "metadata": {
    "colab_type": "text",
    "id": "z93Yr5XXwG87"
   },
   "source": [
    "## Distributed Training"
   ]
  },
  {
   "cell_type": "markdown",
   "metadata": {
    "colab_type": "text",
    "id": "_xo9DpkbwG88"
   },
   "source": [
    "### Defining a distributed model"
   ]
  },
  {
   "cell_type": "code",
   "execution_count": null,
   "metadata": {
    "colab": {},
    "colab_type": "code",
    "id": "XmaYN9zcwG88"
   },
   "outputs": [],
   "source": [
    "with distribute.scope():\n",
    "    model_distributed = tf.keras.models.Sequential([\n",
    "        feature_layer,\n",
    "        tf.keras.layers.Dense(1, activation='sigmoid', kernel_regularizer=tf.keras.regularizers.l2(0.0001))\n",
    "        ])\n",
    "\n",
    "    model_distributed.compile(optimizer='adam',\n",
    "                  loss='binary_crossentropy',\n",
    "                  metrics=['accuracy']\n",
    "                 )"
   ]
  },
  {
   "cell_type": "markdown",
   "metadata": {
    "colab_type": "text",
    "id": "cEFoDrgowG8-"
   },
   "source": [
    "### Training the model: Normal vs. distributed training"
   ]
  },
  {
   "cell_type": "markdown",
   "metadata": {
    "colab_type": "text",
    "id": "vDLF7sPDwG8_"
   },
   "source": [
    "#### Normal Training"
   ]
  },
  {
   "cell_type": "code",
   "execution_count": 28,
   "metadata": {
    "colab": {
     "base_uri": "https://localhost:8080/",
     "height": 377
    },
    "colab_type": "code",
    "id": "ZPZkKuBAwG9A",
    "outputId": "4d180ff6-0cfe-40a9-8f89-b3b440056b2c"
   },
   "outputs": [
    {
     "name": "stderr",
     "output_type": "stream",
     "text": [
      "W0904 19:15:35.735445 140223078004608 base_layer.py:1772] Layer dense is casting an input tensor from dtype float32 to the layer's dtype of float64, which is new behavior in TensorFlow 2.  The layer has dtype float64 because it's dtype defaults to floatx.\n",
      "\n",
      "If you intended to run this layer in float64, you can safely ignore this warning. If in doubt, this warning is likely only an issue if you are porting a TensorFlow 1.X model to TensorFlow 2.\n",
      "\n",
      "To change all layers to have dtype float32 by default, call `tf.keras.backend.set_floatx('float32')`. To change just this layer, pass dtype='float32' to the layer constructor. If you are the author of this layer, you can disable autocasting by passing autocast=False to the base Layer constructor.\n",
      "\n"
     ]
    },
    {
     "name": "stdout",
     "output_type": "stream",
     "text": [
      "Epoch 1/5\n"
     ]
    },
    {
     "name": "stderr",
     "output_type": "stream",
     "text": [
      "W0904 19:15:36.126768 140223078004608 deprecation.py:323] From /usr/local/lib/python3.6/dist-packages/tensorflow_core/python/ops/nn_impl.py:183: where (from tensorflow.python.ops.array_ops) is deprecated and will be removed in a future version.\n",
      "Instructions for updating:\n",
      "Use tf.where in 2.0, which has the same broadcast rule as np.where\n"
     ]
    },
    {
     "name": "stdout",
     "output_type": "stream",
     "text": [
      "7195/7195 [==============================] - 86s 12ms/step - loss: 0.3931 - accuracy: 0.8437\n",
      "Epoch 2/5\n",
      "7195/7195 [==============================] - 67s 9ms/step - loss: 0.3402 - accuracy: 0.8580\n",
      "Epoch 3/5\n",
      "7195/7195 [==============================] - 66s 9ms/step - loss: 0.3401 - accuracy: 0.8580\n",
      "Epoch 4/5\n",
      "7195/7195 [==============================] - 66s 9ms/step - loss: 0.3401 - accuracy: 0.8580\n",
      "Epoch 5/5\n",
      "7195/7195 [==============================] - 66s 9ms/step - loss: 0.3400 - accuracy: 0.8580\n",
      "Normal training took: 368.0146293640137\n"
     ]
    }
   ],
   "source": [
    "start_time = time.time()\n",
    "history = model_normal.fit(train_ds, \n",
    "                    epochs = 5,\n",
    "                    callbacks = [tf.keras.callbacks.TensorBoard(\"logs/normal_training\")])\n",
    "print(\"Normal training took: {}\".format(time.time() - start_time))"
   ]
  },
  {
   "cell_type": "markdown",
   "metadata": {
    "colab_type": "text",
    "id": "FSCZk1DLwG9B"
   },
   "source": [
    "#### Distributed Training"
   ]
  },
  {
   "cell_type": "code",
   "execution_count": 29,
   "metadata": {
    "colab": {
     "base_uri": "https://localhost:8080/",
     "height": 326
    },
    "colab_type": "code",
    "id": "3I86RP4EwG9D",
    "outputId": "c0931a36-ab01-463b-e595-9a852d381487"
   },
   "outputs": [
    {
     "name": "stderr",
     "output_type": "stream",
     "text": [
      "W0904 19:21:32.483937 140223078004608 base_layer.py:1772] Layer dense_1 is casting an input tensor from dtype float32 to the layer's dtype of float64, which is new behavior in TensorFlow 2.  The layer has dtype float64 because it's dtype defaults to floatx.\n",
      "\n",
      "If you intended to run this layer in float64, you can safely ignore this warning. If in doubt, this warning is likely only an issue if you are porting a TensorFlow 1.X model to TensorFlow 2.\n",
      "\n",
      "To change all layers to have dtype float32 by default, call `tf.keras.backend.set_floatx('float32')`. To change just this layer, pass dtype='float32' to the layer constructor. If you are the author of this layer, you can disable autocasting by passing autocast=False to the base Layer constructor.\n",
      "\n"
     ]
    },
    {
     "name": "stdout",
     "output_type": "stream",
     "text": [
      "Epoch 1/5\n",
      "7195/7195 [==============================] - 96s 13ms/step - loss: 0.3854 - accuracy: 0.8497\n",
      "Epoch 2/5\n",
      "7195/7195 [==============================] - 71s 10ms/step - loss: 0.3401 - accuracy: 0.8580\n",
      "Epoch 3/5\n",
      "7195/7195 [==============================] - 71s 10ms/step - loss: 0.3401 - accuracy: 0.8580\n",
      "Epoch 4/5\n",
      "7195/7195 [==============================] - 71s 10ms/step - loss: 0.3401 - accuracy: 0.8580\n",
      "Epoch 5/5\n",
      "7195/7195 [==============================] - 71s 10ms/step - loss: 0.3400 - accuracy: 0.8580\n",
      "Distributed training took: 386.49786019325256\n"
     ]
    }
   ],
   "source": [
    "start_time = time.time()\n",
    "history = model_distributed.fit(train_ds,\n",
    "                    epochs = 5,\n",
    "                    callbacks = [tf.keras.callbacks.TensorBoard(\"logs/distributed_training\")])\n",
    "print(\"Distributed training took: {}\".format(time.time() - start_time))"
   ]
  },
  {
   "cell_type": "code",
   "execution_count": null,
   "metadata": {},
   "outputs": [],
   "source": []
  },
  {
   "cell_type": "code",
   "execution_count": null,
   "metadata": {},
   "outputs": [],
   "source": []
  },
  {
   "cell_type": "code",
   "execution_count": null,
   "metadata": {},
   "outputs": [],
   "source": []
  },
  {
   "cell_type": "code",
   "execution_count": null,
   "metadata": {},
   "outputs": [],
   "source": []
  },
  {
   "cell_type": "code",
   "execution_count": null,
   "metadata": {},
   "outputs": [],
   "source": []
  },
  {
   "cell_type": "code",
   "execution_count": null,
   "metadata": {},
   "outputs": [],
   "source": []
  },
  {
   "cell_type": "code",
   "execution_count": null,
   "metadata": {},
   "outputs": [],
   "source": []
  },
  {
   "cell_type": "code",
   "execution_count": null,
   "metadata": {},
   "outputs": [],
   "source": []
  },
  {
   "cell_type": "code",
   "execution_count": null,
   "metadata": {},
   "outputs": [],
   "source": []
  },
  {
   "cell_type": "code",
   "execution_count": null,
   "metadata": {},
   "outputs": [],
   "source": []
  },
  {
   "cell_type": "code",
   "execution_count": null,
   "metadata": {},
   "outputs": [],
   "source": []
  },
  {
   "cell_type": "code",
   "execution_count": null,
   "metadata": {},
   "outputs": [],
   "source": []
  },
  {
   "cell_type": "code",
   "execution_count": null,
   "metadata": {},
   "outputs": [],
   "source": []
  }
 ],
 "metadata": {
  "accelerator": "GPU",
  "colab": {
   "collapsed_sections": [],
   "name": "Lab Advanced ML Bigquery-rendered (1).ipynb",
   "provenance": [],
   "version": "0.3.2"
  },
  "kernelspec": {
   "display_name": "Python 3",
   "language": "python",
   "name": "python3"
  },
  "language_info": {
   "codemirror_mode": {
    "name": "ipython",
    "version": 3
   },
   "file_extension": ".py",
   "mimetype": "text/x-python",
   "name": "python",
   "nbconvert_exporter": "python",
   "pygments_lexer": "ipython3",
   "version": "3.5.3"
  }
 },
 "nbformat": 4,
 "nbformat_minor": 2
}
