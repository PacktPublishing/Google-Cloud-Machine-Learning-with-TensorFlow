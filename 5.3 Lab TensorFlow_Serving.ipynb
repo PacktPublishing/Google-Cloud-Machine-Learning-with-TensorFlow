{
 "cells": [
  {
   "cell_type": "markdown",
   "metadata": {},
   "source": [
    "# Online Predictions with TensorFlow Serving"
   ]
  },
  {
   "cell_type": "markdown",
   "metadata": {
    "colab_type": "text",
    "id": "qsgbM_R2-ud_"
   },
   "source": [
    "## Import project dependencies"
   ]
  },
  {
   "cell_type": "code",
   "execution_count": 1,
   "metadata": {
    "colab": {
     "base_uri": "https://localhost:8080/",
     "height": 36
    },
    "colab_type": "code",
    "id": "Y3taHerg-nkS",
    "outputId": "da3d495e-eda6-4904-8563-13c00a1b3e7d"
   },
   "outputs": [
    {
     "data": {
      "text/plain": [
       "'2.0.0-beta1'"
      ]
     },
     "execution_count": 1,
     "metadata": {},
     "output_type": "execute_result"
    }
   ],
   "source": [
    "import os\n",
    "import json\n",
    "import requests\n",
    "import subprocess\n",
    "import tensorflow as tf\n",
    "tf.__version__"
   ]
  },
  {
   "cell_type": "markdown",
   "metadata": {
    "colab_type": "text",
    "id": "945L3-2rDjFe"
   },
   "source": [
    "## Loading the saved model to local filesystem"
   ]
  },
  {
   "cell_type": "code",
   "execution_count": 2,
   "metadata": {},
   "outputs": [
    {
     "name": "stdout",
     "output_type": "stream",
     "text": [
      "Copying gs://tensorflow-ml-course-blob/models/1/saved_model.pb...\n",
      "Copying gs://tensorflow-ml-course-blob/models/1/variables/variables.data-00000-of-00001...\n",
      "Copying gs://tensorflow-ml-course-blob/models/1/variables/variables.index...    \n",
      "- [3 files][ 43.1 KiB/ 43.1 KiB]                                                \n",
      "Operation completed over 3 objects/43.1 KiB.                                     \n"
     ]
    }
   ],
   "source": [
    "!gsutil cp -r gs://tensorflow-ml-course-blob/models ."
   ]
  },
  {
   "cell_type": "markdown",
   "metadata": {
    "colab_type": "text",
    "id": "5a5uCiniDmgY"
   },
   "source": [
    "## Defining the model directory"
   ]
  },
  {
   "cell_type": "code",
   "execution_count": 3,
   "metadata": {
    "colab": {},
    "colab_type": "code",
    "id": "YonroqRrC3sM"
   },
   "outputs": [],
   "source": [
    "MODEL_DIR = \"models/\""
   ]
  },
  {
   "cell_type": "markdown",
   "metadata": {
    "colab_type": "text",
    "id": "1o8BlXcBFvIm"
   },
   "source": [
    "## Setting up the production environment"
   ]
  },
  {
   "cell_type": "markdown",
   "metadata": {
    "colab_type": "text",
    "id": "rSFWzxOrF0ft"
   },
   "source": [
    "### Exporting the MODEL_DIR to environment variables"
   ]
  },
  {
   "cell_type": "code",
   "execution_count": 4,
   "metadata": {
    "colab": {},
    "colab_type": "code",
    "id": "BS6wsQthLX_i"
   },
   "outputs": [],
   "source": [
    "os.environ['MODEL_DIR'] = os.path.abspath(MODEL_DIR)"
   ]
  },
  {
   "cell_type": "markdown",
   "metadata": {
    "colab_type": "text",
    "id": "8TXejqj5F5oj"
   },
   "source": [
    "### Running the TensorFlow Serving REST API"
   ]
  },
  {
   "cell_type": "code",
   "execution_count": 5,
   "metadata": {
    "colab": {
     "base_uri": "https://localhost:8080/",
     "height": 36
    },
    "colab_type": "code",
    "id": "oWjUhJA4KGWy",
    "outputId": "4afe9b28-fc80-446d-a5b6-f1cf31d2c3bf"
   },
   "outputs": [],
   "source": [
    "%%bash --bg\n",
    "nohup tensorflow_model_server --rest_api_port=8507 --model_name=flights_logistic --model_base_path=\"${MODEL_DIR}\" >server.log 2>&1\n"
   ]
  },
  {
   "cell_type": "code",
   "execution_count": 6,
   "metadata": {
    "colab": {
     "base_uri": "https://localhost:8080/",
     "height": 224
    },
    "colab_type": "code",
    "id": "iPa7fGZ5NHL5",
    "outputId": "3a402a20-83a5-4156-a3d3-10cfd5b4a158"
   },
   "outputs": [
    {
     "name": "stdout",
     "output_type": "stream",
     "text": [
      "2019-09-03 15:15:36.616906: E external/org_tensorflow/tensorflow/stream_executor/cuda/cuda_driver.cc:318] failed call to cuInit: UNKNOWN ERROR (303)\n",
      "2019-09-03 15:15:36.616936: I external/org_tensorflow/tensorflow/stream_executor/cuda/cuda_diagnostics.cc:156] kernel driver does not appear to be running on this host (tensorflow-20190902-224346): /proc/driver/nvidia/version does not exist\n",
      "2019-09-03 15:15:36.746355: I external/org_tensorflow/tensorflow/cc/saved_model/loader.cc:202] Restoring SavedModel bundle.\n",
      "2019-09-03 15:15:37.083602: I external/org_tensorflow/tensorflow/cc/saved_model/loader.cc:151] Running initialization op on SavedModel bundle at path: /home/jupyter/models/1\n",
      "2019-09-03 15:15:37.089279: I external/org_tensorflow/tensorflow/cc/saved_model/loader.cc:311] SavedModel load for tags { serve }; Status: success. Took 507278 microseconds.\n",
      "2019-09-03 15:15:37.089380: I tensorflow_serving/servables/tensorflow/saved_model_warmup.cc:103] No warmup data file found at /home/jupyter/models/1/assets.extra/tf_serving_warmup_requests\n",
      "2019-09-03 15:15:37.089550: I tensorflow_serving/core/loader_harness.cc:86] Successfully loaded servable version {name: flights_logistic version: 1}\n",
      "2019-09-03 15:15:37.232224: I tensorflow_serving/model_servers/server.cc:324] Running gRPC ModelServer at 0.0.0.0:8500 ...\n",
      "2019-09-03 15:15:37.258770: I tensorflow_serving/model_servers/server.cc:344] Exporting HTTP/REST API at:localhost:8507 ...\n",
      "[evhttp_server.cc : 239] RAW: Entering the event loop ...\n"
     ]
    }
   ],
   "source": [
    "!tail server.log"
   ]
  },
  {
   "cell_type": "markdown",
   "metadata": {
    "colab_type": "text",
    "id": "ICEqKpKUOC2F"
   },
   "source": [
    "## Requesting Predictions over HTTP"
   ]
  },
  {
   "cell_type": "code",
   "execution_count": 7,
   "metadata": {
    "colab": {
     "base_uri": "https://localhost:8080/",
     "height": 36
    },
    "colab_type": "code",
    "id": "AvjZyyPIN3Zq",
    "outputId": "a73f414d-6473-43b8-c677-d092ee6ec477"
   },
   "outputs": [],
   "source": [
    "%%bigquery sample_prediction\n",
    "SELECT * FROM `tensorflow-ml-course.flights.new_flights` LIMIT 1"
   ]
  },
  {
   "cell_type": "code",
   "execution_count": 8,
   "metadata": {},
   "outputs": [
    {
     "data": {
      "text/plain": [
       "[[0, 1, 0, 0, 0, 0, 0, 0, 0, 0, 0, 0, 1]]"
      ]
     },
     "execution_count": 8,
     "metadata": {},
     "output_type": "execute_result"
    }
   ],
   "source": [
    "sample_prediction.to_numpy().tolist()"
   ]
  },
  {
   "cell_type": "markdown",
   "metadata": {
    "colab_type": "text",
    "id": "tqOfIBMNOK8p"
   },
   "source": [
    "### Creating the JSON data object"
   ]
  },
  {
   "cell_type": "code",
   "execution_count": 9,
   "metadata": {
    "colab": {},
    "colab_type": "code",
    "id": "nB57JR6wONOI"
   },
   "outputs": [],
   "source": [
    "data = json.dumps({\"instances\":sample_prediction.to_numpy().tolist()})"
   ]
  },
  {
   "cell_type": "code",
   "execution_count": 10,
   "metadata": {
    "colab": {
     "base_uri": "https://localhost:8080/",
     "height": 56
    },
    "colab_type": "code",
    "id": "ez6JF3yIPdYZ",
    "outputId": "7841ac03-e204-47ba-9d8c-a5d39c6f27b0"
   },
   "outputs": [
    {
     "data": {
      "text/plain": [
       "'{\"instances\": [[0, 1, 0, 0, 0, 0, 0, 0, 0, 0, 0, 0, 1]]}'"
      ]
     },
     "execution_count": 10,
     "metadata": {},
     "output_type": "execute_result"
    }
   ],
   "source": [
    "data"
   ]
  },
  {
   "cell_type": "markdown",
   "metadata": {
    "colab_type": "text",
    "id": "KZDKjyfbPoIa"
   },
   "source": [
    "### Sending the POST request"
   ]
  },
  {
   "cell_type": "code",
   "execution_count": 11,
   "metadata": {
    "colab": {},
    "colab_type": "code",
    "id": "7oFbtxiyPe4p"
   },
   "outputs": [],
   "source": [
    "headers = {\"content-type\":\"application/json\"}"
   ]
  },
  {
   "cell_type": "code",
   "execution_count": 13,
   "metadata": {
    "colab": {},
    "colab_type": "code",
    "id": "I5KHh02nQYIJ"
   },
   "outputs": [],
   "source": [
    "json_response = requests.post(url=\"http://localhost:8507/v1/models/flights_logistic:predict\", data=data, headers=headers)\n",
    "\n"
   ]
  },
  {
   "cell_type": "code",
   "execution_count": 14,
   "metadata": {
    "colab": {
     "base_uri": "https://localhost:8080/",
     "height": 36
    },
    "colab_type": "code",
    "id": "bMYkCQ4gQ2tR",
    "outputId": "b7f0dee5-1b6d-43fb-f1db-6c5388652061"
   },
   "outputs": [
    {
     "data": {
      "text/plain": [
       "<Response [200]>"
      ]
     },
     "execution_count": 14,
     "metadata": {},
     "output_type": "execute_result"
    }
   ],
   "source": [
    "json_response"
   ]
  },
  {
   "cell_type": "code",
   "execution_count": 15,
   "metadata": {
    "colab": {},
    "colab_type": "code",
    "id": "UtoG2441Q4_I"
   },
   "outputs": [],
   "source": [
    "predictions = json.loads(json_response.text)['predictions']"
   ]
  },
  {
   "cell_type": "code",
   "execution_count": 16,
   "metadata": {
    "colab": {
     "base_uri": "https://localhost:8080/",
     "height": 204
    },
    "colab_type": "code",
    "id": "hA-jN6xSRK2S",
    "outputId": "2733a092-8558-4630-a566-edefc86b67ec"
   },
   "outputs": [
    {
     "data": {
      "text/plain": [
       "[[0.0657766461]]"
      ]
     },
     "execution_count": 16,
     "metadata": {},
     "output_type": "execute_result"
    }
   ],
   "source": [
    "predictions"
   ]
  },
  {
   "cell_type": "markdown",
   "metadata": {
    "colab_type": "text",
    "id": "OVN6T3tFR_IQ"
   },
   "source": [
    "### Sending the POST request to a specific model version"
   ]
  },
  {
   "cell_type": "code",
   "execution_count": 18,
   "metadata": {
    "colab": {},
    "colab_type": "code",
    "id": "5TYXGo-XRkCo"
   },
   "outputs": [],
   "source": [
    "json_response_version = requests.post(url=\"http://localhost:8507/v1/models/flights_logistic/versions/1:predict\", data=data, headers=headers)"
   ]
  },
  {
   "cell_type": "code",
   "execution_count": 19,
   "metadata": {
    "colab": {},
    "colab_type": "code",
    "id": "EZGwCkeMS-qg"
   },
   "outputs": [],
   "source": [
    "predictions = json.loads(json_response_version.text)['predictions']"
   ]
  },
  {
   "cell_type": "code",
   "execution_count": 20,
   "metadata": {},
   "outputs": [
    {
     "data": {
      "text/plain": [
       "[[0.0657766461]]"
      ]
     },
     "execution_count": 20,
     "metadata": {},
     "output_type": "execute_result"
    }
   ],
   "source": [
    "predictions"
   ]
  }
 ],
 "metadata": {
  "accelerator": "GPU",
  "colab": {
   "collapsed_sections": [],
   "name": "Colab 12 - Image Classification API with TensorFlow Serving.ipynb",
   "provenance": [],
   "version": "0.3.2"
  },
  "kernelspec": {
   "display_name": "Python 3",
   "language": "python",
   "name": "python3"
  },
  "language_info": {
   "codemirror_mode": {
    "name": "ipython",
    "version": 3
   },
   "file_extension": ".py",
   "mimetype": "text/x-python",
   "name": "python",
   "nbconvert_exporter": "python",
   "pygments_lexer": "ipython3",
   "version": "3.5.3"
  }
 },
 "nbformat": 4,
 "nbformat_minor": 4
}
